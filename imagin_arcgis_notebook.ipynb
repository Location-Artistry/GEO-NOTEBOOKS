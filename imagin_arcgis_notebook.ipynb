{
  "cells": [
    {
      "cell_type": "markdown",
      "metadata": {
        "id": "view-in-github",
        "colab_type": "text"
      },
      "source": [
        "<a href=\"https://colab.research.google.com/github/Location-Artistry/GEO-NOTEBOOKS/blob/main/imagin_arcgis_notebook.ipynb\" target=\"_parent\"><img src=\"https://colab.research.google.com/assets/colab-badge.svg\" alt=\"Open In Colab\"/></a>"
      ]
    },
    {
      "cell_type": "markdown",
      "metadata": {
        "id": "SsgE91bfhyZ6"
      },
      "source": [
        "# Managing ArcGIS Online with the Python API\n",
        "<br />\n",
        "<br />"
      ]
    },
    {
      "cell_type": "markdown",
      "metadata": {
        "id": "cv2fCQyLhyZ-"
      },
      "source": [
        "## IMAGIN Conference 2024\n",
        "#### Eric Kerney - Geospatial Developer @ Airspace Link Inc IMAGIN Board\n",
        "<br />\n",
        "<br />\n",
        "<br />"
      ]
    },
    {
      "cell_type": "markdown",
      "metadata": {
        "id": "L6M1sua5hyZ-"
      },
      "source": [
        "<br />\n",
        "<br />\n",
        "<br />\n",
        "<br />\n",
        "\n",
        "---\n",
        "<br />"
      ]
    },
    {
      "cell_type": "markdown",
      "metadata": {
        "id": "vIYnS-84hyZ_"
      },
      "source": [
        "%%html\n",
        "\n",
        "https://airspacelink.com/\n",
        "<iframe src=\"https://airspacelink.com/\" width=\"1200\" height=\"600\"></iframe>"
      ]
    },
    {
      "cell_type": "markdown",
      "metadata": {
        "id": "l9uyfbUQhyZ_"
      },
      "source": [
        "<br />\n",
        "<br />\n",
        "<br />\n",
        "<br />\n",
        "\n",
        "---\n",
        "<br />"
      ]
    },
    {
      "cell_type": "code",
      "source": [
        "%%html\n",
        "https://airspacelink.com/\n",
        "<iframe src=\"https://airspacelink.com/\" width=\"1200\" height=\"600\"></iframe>"
      ],
      "metadata": {
        "colab": {
          "base_uri": "https://localhost:8080/",
          "height": 662
        },
        "id": "wvHjzWZsiBhu",
        "outputId": "8fc57a18-c813-4e45-aef5-744bdcf1db97"
      },
      "execution_count": 1,
      "outputs": [
        {
          "output_type": "display_data",
          "data": {
            "text/plain": [
              "<IPython.core.display.HTML object>"
            ],
            "text/html": [
              "\n",
              "https://airspacelink.com/\n",
              "<iframe src=\"https://airspacelink.com/\" width=\"1200\" height=\"600\"></iframe>\n"
            ]
          },
          "metadata": {}
        }
      ]
    },
    {
      "cell_type": "markdown",
      "metadata": {
        "id": "c25fzxZmhyZ_"
      },
      "source": [
        "https://developers.arcgis.com/python/guide/overview-of-the-arcgis-api-for-python/\n",
        "<iframe src=\"https://developers.arcgis.com/python/guide/overview-of-the-arcgis-api-for-python/\" width=\"1200\" height=\"720\"></iframe>"
      ]
    },
    {
      "cell_type": "markdown",
      "metadata": {
        "id": "_0jgqk2xhyZ_"
      },
      "source": [
        "<br />\n",
        "\n",
        "# Best of All... No License Required!\n",
        "\n",
        "<br />\n"
      ]
    },
    {
      "cell_type": "markdown",
      "metadata": {
        "id": "nR5F7XzZhyaA"
      },
      "source": [
        "## How Can it Help Me?\n",
        "- Faster searching of AGOL/Portal Resources\n",
        "- Avoids hassles waiting for UI to load in AGOL Web UI\n",
        "- Ability to quickly manage and view Users, Content, & Apps\n",
        "-"
      ]
    },
    {
      "cell_type": "markdown",
      "metadata": {
        "id": "yX5cSkFzhyaA"
      },
      "source": [
        "### How\n",
        "```bash\n",
        "code\n",
        "```"
      ]
    },
    {
      "cell_type": "code",
      "execution_count": null,
      "metadata": {
        "id": "pITV8O_zhyaA"
      },
      "outputs": [],
      "source": [
        "from arcgis import GIS"
      ]
    },
    {
      "cell_type": "code",
      "execution_count": null,
      "metadata": {
        "id": "9ZTS56uRhyaB",
        "outputId": "60af09e3-f60a-42d8-d986-dfb2fec5b65f"
      },
      "outputs": [
        {
          "data": {
            "text/plain": [
              "[]"
            ]
          },
          "execution_count": 5,
          "metadata": {},
          "output_type": "execute_result"
        }
      ],
      "source": [
        "gis = GIS(username='migeodev', password='imagin2024')\n",
        "gis.content.search(query='Living Atlas')"
      ]
    },
    {
      "cell_type": "code",
      "execution_count": null,
      "metadata": {
        "id": "iw1_d0hehyaC"
      },
      "outputs": [],
      "source": [
        "gis.map"
      ]
    },
    {
      "cell_type": "code",
      "execution_count": null,
      "metadata": {
        "id": "fM6y0ZWJhyaC"
      },
      "outputs": [],
      "source": [
        "import geopandas as gpd"
      ]
    }
  ],
  "metadata": {
    "kernelspec": {
      "display_name": ".venv",
      "language": "python",
      "name": "python3"
    },
    "language_info": {
      "codemirror_mode": {
        "name": "ipython",
        "version": 3
      },
      "file_extension": ".py",
      "mimetype": "text/x-python",
      "name": "python",
      "nbconvert_exporter": "python",
      "pygments_lexer": "ipython3",
      "version": "3.10.12"
    },
    "colab": {
      "provenance": [],
      "include_colab_link": true
    }
  },
  "nbformat": 4,
  "nbformat_minor": 0
}