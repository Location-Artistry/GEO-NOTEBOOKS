{
  "cells": [
    {
      "cell_type": "markdown",
      "metadata": {
        "id": "view-in-github",
        "colab_type": "text"
      },
      "source": [
        "<a href=\"https://colab.research.google.com/github/Location-Artistry/GEO-NOTEBOOKS/blob/main/imagin_arcgis_notebook.ipynb\" target=\"_parent\"><img src=\"https://colab.research.google.com/assets/colab-badge.svg\" alt=\"Open In Colab\"/></a>"
      ]
    },
    {
      "cell_type": "markdown",
      "metadata": {
        "id": "4JlyaVqkqnfs"
      },
      "source": [
        "<br />\n",
        "<br />\n",
        "<br />\n",
        "\n",
        "# Managing ArcGIS Online with the Python API\n",
        "## IMAGIN Conference 2024\n",
        "#### Eric Kerney - Geospatial Developer @ Airspace Link Inc IMAGIN Board\n",
        "<br />\n",
        "<br />\n",
        "<br />"
      ]
    },
    {
      "cell_type": "markdown",
      "metadata": {
        "id": "lS7z6nh2qnfu"
      },
      "source": [
        "<br />\n",
        "<br />\n",
        "<br />\n",
        "<br />\n",
        "\n",
        "---\n",
        "<br />"
      ]
    },
    {
      "cell_type": "markdown",
      "metadata": {
        "id": "afynRY9tqnfu"
      },
      "source": [
        "https://airspacelink.com/\n",
        "<iframe src=\"https://airspacelink.com/\" width=\"1200\" height=\"600\"></iframe>"
      ]
    },
    {
      "cell_type": "markdown",
      "metadata": {
        "id": "Zfh2VCazqnfu"
      },
      "source": [
        "<br />\n",
        "<br />\n",
        "<br />\n",
        "<br />\n",
        "\n",
        "---\n",
        "<br />"
      ]
    },
    {
      "cell_type": "markdown",
      "metadata": {
        "id": "Ch9b_Theqnfu"
      },
      "source": [
        "https://developers.arcgis.com/python/guide/overview-of-the-arcgis-api-for-python/\n",
        "<iframe src=\"https://developers.arcgis.com/python/guide/overview-of-the-arcgis-api-for-python/\" width=\"1200\" height=\"720\"></iframe>"
      ]
    },
    {
      "cell_type": "markdown",
      "metadata": {
        "id": "00OYutayqnfu"
      },
      "source": [
        "<br />\n",
        "\n",
        "# Best of All... No License Required!\n",
        "\n",
        "<br />\n"
      ]
    },
    {
      "cell_type": "markdown",
      "metadata": {
        "id": "fs1kj-CSqnfu"
      },
      "source": [
        "# How Can it Help Me?\n",
        "- Faster searching of AGOL/Portal Resources\n",
        "- Avoids hassles waiting for UI to load in AGOL Web UI\n",
        "- Ability to quickly manage and view Users, Content, & Apps\n",
        "- Quickly view WebMap and App dependencies\n",
        "- View all of the content owned by a specific user\n",
        "- Create and publish new items\n",
        "- CLone items from DEV to PROD, or from Portal to Portal\n",
        "- Allows for programmatic and automated workflows\n",
        "- Potentially Save many hours of manual staff time\n",
        "<br />\n",
        "<br />\n",
        "<br />\n",
        "<br />"
      ]
    },
    {
      "cell_type": "markdown",
      "metadata": {
        "id": "TkLPNXIZqnfu"
      },
      "source": [
        "# What are the Pitfalls?\n",
        "- Setting up Python & Development Environment\n",
        "- Python learning curve for non-coders\n",
        "- Python dependencies can be inconsistent with version upgrades\n",
        "- Takes a time/resources investment to payoffk\n",
        "<br />\n",
        "<br />\n",
        "<br />\n",
        "<br />"
      ]
    },
    {
      "cell_type": "markdown",
      "metadata": {
        "id": "ClEZQXIPqnfv"
      },
      "source": [
        "# What we will do today\n",
        "#### Section 1\n",
        "1. Python & Notebook Setup\n",
        "2. Python basics - [IMAGIN 2023 Python Basics & GeoPandas Notebook](https://github.com/Location-Artistry/GEO-NOTEBOOKS/blob/main/GeoPandas4GeoSpatial.ipynb)\n",
        "3. Connect to AGOL via python api\n",
        "4. View organization info: Users & Groups\n",
        "5. Search and View Content\n",
        "6. Create interactive maps! (*impress your boss*)\n",
        "7. Clone content between Portals\n",
        "8. Make a reuseable function\n",
        "#### Section 2 ???\n",
        "1. Creating a simple Online GIS framework\n",
        "2. Load Open GIS Data from the State of Michigan\n",
        "3. View information and maps of loaded data\n",
        "4. Create & Publish new AGOL Items from Data!\n",
        "5. Confirm new Services in AGOL\n",
        "6. Refactor this code into additional functions\n",
        "7. Edit Feature Properties!!\n",
        "8. Update our Services with other data sources"
      ]
    },
    {
      "cell_type": "markdown",
      "metadata": {
        "id": "7lLGCSsMqnfv"
      },
      "source": [
        "### How\n",
        "```bash\n",
        "code\n",
        "```"
      ]
    },
    {
      "cell_type": "code",
      "execution_count": null,
      "metadata": {
        "id": "7SoWzcZsqnfv"
      },
      "outputs": [],
      "source": [
        "from arcgis import GIS"
      ]
    },
    {
      "cell_type": "code",
      "execution_count": null,
      "metadata": {
        "id": "dC61LucTqnfv",
        "outputId": "2309b4e8-34cb-448c-ba03-4f1b9be7f13e"
      },
      "outputs": [
        {
          "data": {
            "text/plain": [
              "[]"
            ]
          },
          "execution_count": 5,
          "metadata": {},
          "output_type": "execute_result"
        }
      ],
      "source": [
        "gis = GIS(username='migeodev', password='imagin2024')\n",
        "gis.content.search(query='Living Atlas')"
      ]
    },
    {
      "cell_type": "code",
      "execution_count": null,
      "metadata": {
        "id": "POREQ9YAqnfw"
      },
      "outputs": [],
      "source": [
        "gis.map"
      ]
    },
    {
      "cell_type": "code",
      "execution_count": null,
      "metadata": {
        "id": "5veMsAZGqnfw"
      },
      "outputs": [],
      "source": [
        "import geopandas as gpd"
      ]
    }
  ],
  "metadata": {
    "kernelspec": {
      "display_name": ".venv",
      "language": "python",
      "name": "python3"
    },
    "language_info": {
      "codemirror_mode": {
        "name": "ipython",
        "version": 3
      },
      "file_extension": ".py",
      "mimetype": "text/x-python",
      "name": "python",
      "nbconvert_exporter": "python",
      "pygments_lexer": "ipython3",
      "version": "3.10.12"
    },
    "colab": {
      "provenance": [],
      "include_colab_link": true
    }
  },
  "nbformat": 4,
  "nbformat_minor": 0
}