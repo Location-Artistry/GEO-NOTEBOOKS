{
  "nbformat": 4,
  "nbformat_minor": 0,
  "metadata": {
    "colab": {
      "provenance": [],
      "gpuType": "T4",
      "mount_file_id": "13KE1JZjuL-4FAS4DVSUSWDWExW5UFgsC",
      "authorship_tag": "ABX9TyO9/+u2McUg0aL/RcSOBUoO",
      "include_colab_link": true
    },
    "kernelspec": {
      "name": "python3",
      "display_name": "Python 3"
    },
    "language_info": {
      "name": "python"
    },
    "accelerator": "GPU"
  },
  "cells": [
    {
      "cell_type": "markdown",
      "metadata": {
        "id": "view-in-github",
        "colab_type": "text"
      },
      "source": [
        "<a href=\"https://colab.research.google.com/github/Location-Artistry/GEO-NOTEBOOKS/blob/main/GeoPandas4GeoSpatial.ipynb\" target=\"_parent\"><img src=\"https://colab.research.google.com/assets/colab-badge.svg\" alt=\"Open In Colab\"/></a>"
      ]
    },
    {
      "cell_type": "markdown",
      "source": [
        "# Welcome to Colab Notebooks!\n",
        "\n",
        "---\n",
        "\n"
      ],
      "metadata": {
        "id": "Qo9Kn2MbAuzl"
      }
    },
    {
      "cell_type": "markdown",
      "source": [
        "### From Google: \n",
        "> Colab notebooks are Jupyter notebooks that run in the cloud and are highly integrated with Google Drive, making them easy to set up, access, and share. If you are unfamiliar with Google Colab or Jupyter notebooks, please spend some time exploring the Colab welcome site\n",
        ">"
      ],
      "metadata": {
        "id": "8fJ1hIN1BYyw"
      }
    },
    {
      "cell_type": "markdown",
      "source": [
        "## Familiar with Jupyter Notebooks?\n",
        "### You should feel right at home!"
      ],
      "metadata": {
        "id": "9pXC8YHLBCCM"
      }
    },
    {
      "cell_type": "markdown",
      "source": [
        "### 2 Types of cells:\n",
        "1. Text (markdown)\n",
        "2. Code (python)"
      ],
      "metadata": {
        "id": "-XXeafmSCH0P"
      }
    },
    {
      "cell_type": "markdown",
      "source": [
        "Markdown has a very simple and plesant syntax:\n",
        "```markdown\n",
        "# Largest Heading\n",
        "```\n",
        "# Largest Heading\n",
        "```markdown\n",
        "## Large Heading\n",
        "```\n",
        "## Large Heading\n",
        "```markdown\n",
        "### Medium Heading\n",
        "```\n",
        "### Medium Heading\n",
        "\n",
        "```markdown\n",
        "**BOLD TEXT**\n",
        "*Italic Text*\n",
        "[Link Text](Link URL)\n",
        "[10 Colab Tips for a Better Experience](https://towardsdatascience.com/10-tips-for-a-better-google-colab-experience-33f8fe721b82)\n",
        "```\n",
        "[10 Colab Tips for a Better Experience](https://towardsdatascience.com/10-tips-for-a-better-google-colab-experience-33f8fe721b82)\n"
      ],
      "metadata": {
        "id": "9xiAlsOUEXLI"
      }
    },
    {
      "cell_type": "markdown",
      "source": [
        "## Code Syntax Highlighting 🤖 🤖 🤖 :robot\n",
        "\n",
        "\\```python   \n",
        "numbers = [1, 2, 3, 4]   \n",
        "for i in numbers:    \n",
        "&emsp;&emsp;print(i)   \n",
        "\\```\n",
        "\n",
        "```python   \n",
        "numbers = [1, 2, 3, 4]   \n",
        "for i in numbers:    \n",
        "    print(i)   \n",
        "```\n",
        "\n",
        "\\```javascript   \n",
        "const numbers = [1, 2, 3, 4];    \n",
        "const conferenceName = \"IMAGIN 2023\";   \n",
        "numbers.forEach(d => {   \n",
        "&emsp;&emsp;print(d)    \n",
        ")};   \n",
        "\\```    \n",
        "```javascript\n",
        "const numbers = [1, 2, 3, 4];\n",
        "const conferenceName = \"IMAGIN 2023\";\n",
        "numbers.forEach(d => {\n",
        "    print(d)\n",
        ")};\n",
        "```"
      ],
      "metadata": {
        "id": "IfRQB1JDGhr5"
      }
    },
    {
      "cell_type": "markdown",
      "source": [
        "# PYTHON BASICS"
      ],
      "metadata": {
        "id": "ervbe6p8pGMs"
      }
    },
    {
      "cell_type": "markdown",
      "source": [
        "#### basic mathematical expressions"
      ],
      "metadata": {
        "id": "EF9s-59EpO9f"
      }
    },
    {
      "cell_type": "code",
      "source": [
        "90 + 270"
      ],
      "metadata": {
        "colab": {
          "base_uri": "https://localhost:8080/"
        },
        "id": "x5_wsGMApW5d",
        "outputId": "b15520f2-1a12-4232-e242-200671384c30"
      },
      "execution_count": null,
      "outputs": [
        {
          "output_type": "execute_result",
          "data": {
            "text/plain": [
              "360"
            ]
          },
          "metadata": {},
          "execution_count": 3
        }
      ]
    },
    {
      "cell_type": "code",
      "source": [
        "18 * 10"
      ],
      "metadata": {
        "colab": {
          "base_uri": "https://localhost:8080/"
        },
        "id": "kNXCREkiphzY",
        "outputId": "f4c0593e-faf0-4667-f4e4-ea23d45a7e96"
      },
      "execution_count": null,
      "outputs": [
        {
          "output_type": "execute_result",
          "data": {
            "text/plain": [
              "180"
            ]
          },
          "metadata": {},
          "execution_count": 4
        }
      ]
    },
    {
      "cell_type": "code",
      "source": [
        "2400 / 12"
      ],
      "metadata": {
        "colab": {
          "base_uri": "https://localhost:8080/"
        },
        "id": "Tj2ZtcHnppuW",
        "outputId": "3def8701-3828-4204-c149-6c534c357c2c"
      },
      "execution_count": null,
      "outputs": [
        {
          "output_type": "execute_result",
          "data": {
            "text/plain": [
              "200.0"
            ]
          },
          "metadata": {},
          "execution_count": 6
        }
      ]
    },
    {
      "cell_type": "code",
      "source": [
        "x = 42\n",
        "total = (x / 2) + (x * 10) - 1\n",
        "total"
      ],
      "metadata": {
        "colab": {
          "base_uri": "https://localhost:8080/"
        },
        "id": "bwNtt0Xjpwv-",
        "outputId": "0917109c-c45e-41d7-9385-abc0c72f001f"
      },
      "execution_count": null,
      "outputs": [
        {
          "output_type": "execute_result",
          "data": {
            "text/plain": [
              "440.0"
            ]
          },
          "metadata": {},
          "execution_count": 26
        }
      ]
    },
    {
      "cell_type": "code",
      "source": [
        "z = 1\n",
        "z += 1\n",
        "z"
      ],
      "metadata": {
        "colab": {
          "base_uri": "https://localhost:8080/"
        },
        "id": "KncJ2MuznPsX",
        "outputId": "f4384bee-cc28-42a3-8da6-b910bda1fb58"
      },
      "execution_count": null,
      "outputs": [
        {
          "output_type": "execute_result",
          "data": {
            "text/plain": [
              "2"
            ]
          },
          "metadata": {},
          "execution_count": 156
        }
      ]
    },
    {
      "cell_type": "markdown",
      "source": [
        " # Logic & Comparison"
      ],
      "metadata": {
        "id": "y0xIYx9SqV9_"
      }
    },
    {
      "cell_type": "code",
      "source": [
        "if total > 360: \n",
        "    print(f'{total} is greater than 360')\n",
        "else:\n",
        "    print(f'{total} is less than 360')"
      ],
      "metadata": {
        "colab": {
          "base_uri": "https://localhost:8080/"
        },
        "id": "1vSkmeDTqZEY",
        "outputId": "4360c841-2fe1-4d13-8a4c-01d3fb6fd04d"
      },
      "execution_count": null,
      "outputs": [
        {
          "output_type": "stream",
          "name": "stdout",
          "text": [
            "440.0 is greater than 360\n"
          ]
        }
      ]
    },
    {
      "cell_type": "code",
      "source": [
        "# conf = \"MICAMP 2023\"\n",
        "conf = \"IMAGIN 2023\"\n",
        "if x < total and conf == \"IMAGIN 2023\":\n",
        "    print(f'{x} is less than {total}')\n",
        "    print(f'We are at {conf}!!!')\n"
      ],
      "metadata": {
        "colab": {
          "base_uri": "https://localhost:8080/"
        },
        "id": "Bln3n0YnrGDE",
        "outputId": "a40f4b3c-c1b9-498e-d3a5-d1af5ca7ea90"
      },
      "execution_count": null,
      "outputs": [
        {
          "output_type": "stream",
          "name": "stdout",
          "text": [
            "42 is less than 440.0\n",
            "We are at IMAGIN 2023!!!\n"
          ]
        }
      ]
    },
    {
      "cell_type": "code",
      "source": [
        "a = 240\n",
        "b = 241\n",
        "if a != b:\n",
        "    print(f'{a} and {b} are NOT equal')\n",
        "if a == b:\n",
        "    print(f'{a} and {b} ARE equal')"
      ],
      "metadata": {
        "colab": {
          "base_uri": "https://localhost:8080/"
        },
        "id": "ba1bAS_gn9Lz",
        "outputId": "f75a84f8-ce47-430d-e41a-fd2ababb2407"
      },
      "execution_count": null,
      "outputs": [
        {
          "output_type": "stream",
          "name": "stdout",
          "text": [
            "240 and 241 are NOT equal\n"
          ]
        }
      ]
    },
    {
      "cell_type": "markdown",
      "source": [
        "# ITERATION aka LOOPS"
      ],
      "metadata": {
        "id": "aWjQ5Aoro6Ra"
      }
    },
    {
      "cell_type": "code",
      "source": [
        "numbers = [1,2,3,5,8,13,21]\n",
        "for num in numbers:\n",
        "    print(num)"
      ],
      "metadata": {
        "id": "QE2mHm2Nor1-"
      },
      "execution_count": null,
      "outputs": []
    },
    {
      "cell_type": "code",
      "source": [
        "numbers = [1,2,3,5,8,13,21]\n",
        "for i, num in enumerate(numbers):\n",
        "    print(i, '-', num)"
      ],
      "metadata": {
        "id": "jE9XZX9xpL0A"
      },
      "execution_count": null,
      "outputs": []
    },
    {
      "cell_type": "code",
      "source": [
        "for r in range(5):\n",
        "    print(r)"
      ],
      "metadata": {
        "id": "V1r-fylJpZGF"
      },
      "execution_count": null,
      "outputs": []
    },
    {
      "cell_type": "code",
      "source": [
        "dict_var = {'id': 9302347237426, 'name': 'Benzie County Map', 'type': 'WebMap', 'desc': 'GIS Layers in Benzie County' }\n",
        "for item in dict_var.items():\n",
        "    print(item)"
      ],
      "metadata": {
        "colab": {
          "base_uri": "https://localhost:8080/"
        },
        "id": "etKX-oWipst1",
        "outputId": "725d1c8b-b865-457c-f6f5-3d42ce28272a"
      },
      "execution_count": null,
      "outputs": [
        {
          "output_type": "stream",
          "name": "stdout",
          "text": [
            "('id', 9302347237426)\n",
            "('name', 'Benzie County Map')\n",
            "('type', 'WebMap')\n",
            "('desc', 'GIS Layers in Benzie County')\n"
          ]
        }
      ]
    },
    {
      "cell_type": "markdown",
      "source": [
        "# FUNCTIONS"
      ],
      "metadata": {
        "id": "0mBIdrjHrSEa"
      }
    },
    {
      "cell_type": "code",
      "source": [
        "def sumNumbers(numbers: list) -> int:\n",
        "    sum = 0\n",
        "    for i in numbers:\n",
        "        sum = sum + i\n",
        "    return sum\n",
        "\n",
        "sumNumbers([1,2,3,5,8,13,21])\n",
        "# sumNumbers(\"abcd\")"
      ],
      "metadata": {
        "colab": {
          "base_uri": "https://localhost:8080/"
        },
        "id": "HwB4-XBDrUUV",
        "outputId": "6db7f003-ca99-481d-d5b7-4e9446b79f7e"
      },
      "execution_count": null,
      "outputs": [
        {
          "output_type": "execute_result",
          "data": {
            "text/plain": [
              "53"
            ]
          },
          "metadata": {},
          "execution_count": 67
        }
      ]
    },
    {
      "cell_type": "markdown",
      "source": [
        "# Syntactic Sugar\n",
        "### Ternary Operator"
      ],
      "metadata": {
        "id": "JHXP3DWNsqbs"
      }
    },
    {
      "cell_type": "code",
      "source": [
        "a, b = 24, 42\n",
        "max = a if a > b else b\n",
        "max"
      ],
      "metadata": {
        "colab": {
          "base_uri": "https://localhost:8080/"
        },
        "id": "Qf74uyYKwTqc",
        "outputId": "2edc54ab-9ab7-4d50-ac3b-03fef9b34d58"
      },
      "execution_count": null,
      "outputs": [
        {
          "output_type": "execute_result",
          "data": {
            "text/plain": [
              "42"
            ]
          },
          "metadata": {},
          "execution_count": 77
        }
      ]
    },
    {
      "cell_type": "markdown",
      "source": [
        "### Membership Operators\n",
        "in   \n",
        "not in"
      ],
      "metadata": {
        "id": "xyP1sN_sxj95"
      }
    },
    {
      "cell_type": "code",
      "source": [
        "map_dict = {'id': 9302347237426, 'name': 'Benzie County Map', 'type': 'WebMap', 'desc': 'GIS Layers in Benzie County' }\n",
        "key_test = 'id'\n",
        "\n",
        "if key_test in map_dict:\n",
        "    print(f'{key_test} key found in dict')\n",
        "else:\n",
        "    print(f'{key_test} key NOT found in dict')\n",
        "\n"
      ],
      "metadata": {
        "colab": {
          "base_uri": "https://localhost:8080/"
        },
        "id": "fcjwNo5JwuLa",
        "outputId": "a44d21e4-b00d-48f8-e841-cebc05786116"
      },
      "execution_count": null,
      "outputs": [
        {
          "output_type": "stream",
          "name": "stdout",
          "text": [
            "id key found in dict\n"
          ]
        }
      ]
    },
    {
      "cell_type": "code",
      "source": [
        "landforms = ['river valley', 'moraine', 'dunes', 'drumlin', 'kettle']\n",
        "\n",
        "edited_list = [land for land in landforms if 'a' in land]\n",
        "\n",
        "edited_list"
      ],
      "metadata": {
        "colab": {
          "base_uri": "https://localhost:8080/"
        },
        "id": "TGdMXBA3yAgc",
        "outputId": "c3b5f7c3-2787-452b-e362-fb781d0b4a11"
      },
      "execution_count": null,
      "outputs": [
        {
          "output_type": "execute_result",
          "data": {
            "text/plain": [
              "['river valley', 'moraine']"
            ]
          },
          "metadata": {},
          "execution_count": 85
        }
      ]
    },
    {
      "cell_type": "markdown",
      "source": [
        "---\n",
        "# Pandas \n",
        "Your data friend in Python"
      ],
      "metadata": {
        "id": "XDqFewln8XYs"
      }
    },
    {
      "cell_type": "code",
      "source": [
        "from IPython.display import IFrame\n",
        "IFrame(src='https://pandas.pydata.org/', width=1000, height=500)"
      ],
      "metadata": {
        "colab": {
          "base_uri": "https://localhost:8080/",
          "height": 521
        },
        "id": "1miM6Kfc8dW2",
        "outputId": "d2128333-8507-44bb-c9a7-4f39ced151bc"
      },
      "execution_count": null,
      "outputs": [
        {
          "output_type": "execute_result",
          "data": {
            "text/plain": [
              "<IPython.lib.display.IFrame at 0x7fb5630af220>"
            ],
            "text/html": [
              "\n",
              "        <iframe\n",
              "            width=\"1000\"\n",
              "            height=\"500\"\n",
              "            src=\"https://pandas.pydata.org/\"\n",
              "            frameborder=\"0\"\n",
              "            allowfullscreen\n",
              "            \n",
              "        ></iframe>\n",
              "        "
            ]
          },
          "metadata": {},
          "execution_count": 90
        }
      ]
    },
    {
      "cell_type": "code",
      "source": [
        "# !pip install pandas\n",
        "import pandas as pd"
      ],
      "metadata": {
        "id": "I8VxvgdR92vK"
      },
      "execution_count": 1,
      "outputs": []
    },
    {
      "cell_type": "markdown",
      "source": [
        "State of Michigan Open Data Links"
      ],
      "metadata": {
        "id": "zt-wZ2L6_sWZ"
      }
    },
    {
      "cell_type": "markdown",
      "source": [
        "[Michigan Open Data](https://michigan.data.socrata.com/)   \n",
        "[Michigan Open Geospatial Data](https://gis-michigan.opendata.arcgis.com)   \n",
        "Let's try this dataset:   \n",
        "[State Unemployment Rate](https://data.michigan.gov/Economy/Unemployment-Rate-by-State/qj2w-9cqv)"
      ],
      "metadata": {
        "id": "EXDGLlwv-ee_"
      }
    },
    {
      "cell_type": "code",
      "source": [
        "df = pd.read_csv('https://data.michigan.gov/resource/qj2w-9cqv.csv')\n",
        "df.head()"
      ],
      "metadata": {
        "colab": {
          "base_uri": "https://localhost:8080/",
          "height": 444
        },
        "id": "WP_apz2B_gYb",
        "outputId": "a1be7779-9ea8-48a5-a731-6476f358d4ac"
      },
      "execution_count": 2,
      "outputs": [
        {
          "output_type": "execute_result",
          "data": {
            "text/plain": [
              "        state  unemployment_rate month  rank highlights  \\\n",
              "0     Alabama                2.2   NaN   NaN        NaN   \n",
              "1      Alaska                3.7   NaN   NaN        NaN   \n",
              "2     Arizona                3.4   NaN   NaN        NaN   \n",
              "3    Arkansas                2.8   NaN   NaN        NaN   \n",
              "4  California                4.5   NaN   NaN        NaN   \n",
              "\n",
              "                            location_1   latitude   longitude  \\\n",
              "0      Alabama (32.839182, -86.631125)  32.839182  -86.631125   \n",
              "1      Alaska (64.836661, -147.738891)  64.836661 -147.738891   \n",
              "2     Arizona (34.869712, -111.760902)  34.869712 -111.760902   \n",
              "3     Arkansas (34.748745, -92.275105)  34.748745  -92.275105   \n",
              "4  California (37.640735, -121.002435)  37.640735 -121.002435   \n",
              "\n",
              "                 geocoded_column  \n",
              "0   POINT (-86.631125 32.839182)  \n",
              "1  POINT (-147.738891 64.836661)  \n",
              "2  POINT (-111.760902 34.869712)  \n",
              "3   POINT (-92.275105 34.748745)  \n",
              "4  POINT (-121.002435 37.640735)  "
            ],
            "text/html": [
              "\n",
              "  <div id=\"df-9efc684c-1380-402a-a9d5-ec0b8972892f\">\n",
              "    <div class=\"colab-df-container\">\n",
              "      <div>\n",
              "<style scoped>\n",
              "    .dataframe tbody tr th:only-of-type {\n",
              "        vertical-align: middle;\n",
              "    }\n",
              "\n",
              "    .dataframe tbody tr th {\n",
              "        vertical-align: top;\n",
              "    }\n",
              "\n",
              "    .dataframe thead th {\n",
              "        text-align: right;\n",
              "    }\n",
              "</style>\n",
              "<table border=\"1\" class=\"dataframe\">\n",
              "  <thead>\n",
              "    <tr style=\"text-align: right;\">\n",
              "      <th></th>\n",
              "      <th>state</th>\n",
              "      <th>unemployment_rate</th>\n",
              "      <th>month</th>\n",
              "      <th>rank</th>\n",
              "      <th>highlights</th>\n",
              "      <th>location_1</th>\n",
              "      <th>latitude</th>\n",
              "      <th>longitude</th>\n",
              "      <th>geocoded_column</th>\n",
              "    </tr>\n",
              "  </thead>\n",
              "  <tbody>\n",
              "    <tr>\n",
              "      <th>0</th>\n",
              "      <td>Alabama</td>\n",
              "      <td>2.2</td>\n",
              "      <td>NaN</td>\n",
              "      <td>NaN</td>\n",
              "      <td>NaN</td>\n",
              "      <td>Alabama (32.839182, -86.631125)</td>\n",
              "      <td>32.839182</td>\n",
              "      <td>-86.631125</td>\n",
              "      <td>POINT (-86.631125 32.839182)</td>\n",
              "    </tr>\n",
              "    <tr>\n",
              "      <th>1</th>\n",
              "      <td>Alaska</td>\n",
              "      <td>3.7</td>\n",
              "      <td>NaN</td>\n",
              "      <td>NaN</td>\n",
              "      <td>NaN</td>\n",
              "      <td>Alaska (64.836661, -147.738891)</td>\n",
              "      <td>64.836661</td>\n",
              "      <td>-147.738891</td>\n",
              "      <td>POINT (-147.738891 64.836661)</td>\n",
              "    </tr>\n",
              "    <tr>\n",
              "      <th>2</th>\n",
              "      <td>Arizona</td>\n",
              "      <td>3.4</td>\n",
              "      <td>NaN</td>\n",
              "      <td>NaN</td>\n",
              "      <td>NaN</td>\n",
              "      <td>Arizona (34.869712, -111.760902)</td>\n",
              "      <td>34.869712</td>\n",
              "      <td>-111.760902</td>\n",
              "      <td>POINT (-111.760902 34.869712)</td>\n",
              "    </tr>\n",
              "    <tr>\n",
              "      <th>3</th>\n",
              "      <td>Arkansas</td>\n",
              "      <td>2.8</td>\n",
              "      <td>NaN</td>\n",
              "      <td>NaN</td>\n",
              "      <td>NaN</td>\n",
              "      <td>Arkansas (34.748745, -92.275105)</td>\n",
              "      <td>34.748745</td>\n",
              "      <td>-92.275105</td>\n",
              "      <td>POINT (-92.275105 34.748745)</td>\n",
              "    </tr>\n",
              "    <tr>\n",
              "      <th>4</th>\n",
              "      <td>California</td>\n",
              "      <td>4.5</td>\n",
              "      <td>NaN</td>\n",
              "      <td>NaN</td>\n",
              "      <td>NaN</td>\n",
              "      <td>California (37.640735, -121.002435)</td>\n",
              "      <td>37.640735</td>\n",
              "      <td>-121.002435</td>\n",
              "      <td>POINT (-121.002435 37.640735)</td>\n",
              "    </tr>\n",
              "  </tbody>\n",
              "</table>\n",
              "</div>\n",
              "      <button class=\"colab-df-convert\" onclick=\"convertToInteractive('df-9efc684c-1380-402a-a9d5-ec0b8972892f')\"\n",
              "              title=\"Convert this dataframe to an interactive table.\"\n",
              "              style=\"display:none;\">\n",
              "        \n",
              "  <svg xmlns=\"http://www.w3.org/2000/svg\" height=\"24px\"viewBox=\"0 0 24 24\"\n",
              "       width=\"24px\">\n",
              "    <path d=\"M0 0h24v24H0V0z\" fill=\"none\"/>\n",
              "    <path d=\"M18.56 5.44l.94 2.06.94-2.06 2.06-.94-2.06-.94-.94-2.06-.94 2.06-2.06.94zm-11 1L8.5 8.5l.94-2.06 2.06-.94-2.06-.94L8.5 2.5l-.94 2.06-2.06.94zm10 10l.94 2.06.94-2.06 2.06-.94-2.06-.94-.94-2.06-.94 2.06-2.06.94z\"/><path d=\"M17.41 7.96l-1.37-1.37c-.4-.4-.92-.59-1.43-.59-.52 0-1.04.2-1.43.59L10.3 9.45l-7.72 7.72c-.78.78-.78 2.05 0 2.83L4 21.41c.39.39.9.59 1.41.59.51 0 1.02-.2 1.41-.59l7.78-7.78 2.81-2.81c.8-.78.8-2.07 0-2.86zM5.41 20L4 18.59l7.72-7.72 1.47 1.35L5.41 20z\"/>\n",
              "  </svg>\n",
              "      </button>\n",
              "      \n",
              "  <style>\n",
              "    .colab-df-container {\n",
              "      display:flex;\n",
              "      flex-wrap:wrap;\n",
              "      gap: 12px;\n",
              "    }\n",
              "\n",
              "    .colab-df-convert {\n",
              "      background-color: #E8F0FE;\n",
              "      border: none;\n",
              "      border-radius: 50%;\n",
              "      cursor: pointer;\n",
              "      display: none;\n",
              "      fill: #1967D2;\n",
              "      height: 32px;\n",
              "      padding: 0 0 0 0;\n",
              "      width: 32px;\n",
              "    }\n",
              "\n",
              "    .colab-df-convert:hover {\n",
              "      background-color: #E2EBFA;\n",
              "      box-shadow: 0px 1px 2px rgba(60, 64, 67, 0.3), 0px 1px 3px 1px rgba(60, 64, 67, 0.15);\n",
              "      fill: #174EA6;\n",
              "    }\n",
              "\n",
              "    [theme=dark] .colab-df-convert {\n",
              "      background-color: #3B4455;\n",
              "      fill: #D2E3FC;\n",
              "    }\n",
              "\n",
              "    [theme=dark] .colab-df-convert:hover {\n",
              "      background-color: #434B5C;\n",
              "      box-shadow: 0px 1px 3px 1px rgba(0, 0, 0, 0.15);\n",
              "      filter: drop-shadow(0px 1px 2px rgba(0, 0, 0, 0.3));\n",
              "      fill: #FFFFFF;\n",
              "    }\n",
              "  </style>\n",
              "\n",
              "      <script>\n",
              "        const buttonEl =\n",
              "          document.querySelector('#df-9efc684c-1380-402a-a9d5-ec0b8972892f button.colab-df-convert');\n",
              "        buttonEl.style.display =\n",
              "          google.colab.kernel.accessAllowed ? 'block' : 'none';\n",
              "\n",
              "        async function convertToInteractive(key) {\n",
              "          const element = document.querySelector('#df-9efc684c-1380-402a-a9d5-ec0b8972892f');\n",
              "          const dataTable =\n",
              "            await google.colab.kernel.invokeFunction('convertToInteractive',\n",
              "                                                     [key], {});\n",
              "          if (!dataTable) return;\n",
              "\n",
              "          const docLinkHtml = 'Like what you see? Visit the ' +\n",
              "            '<a target=\"_blank\" href=https://colab.research.google.com/notebooks/data_table.ipynb>data table notebook</a>'\n",
              "            + ' to learn more about interactive tables.';\n",
              "          element.innerHTML = '';\n",
              "          dataTable['output_type'] = 'display_data';\n",
              "          await google.colab.output.renderOutput(dataTable, element);\n",
              "          const docLink = document.createElement('div');\n",
              "          docLink.innerHTML = docLinkHtml;\n",
              "          element.appendChild(docLink);\n",
              "        }\n",
              "      </script>\n",
              "    </div>\n",
              "  </div>\n",
              "  "
            ]
          },
          "metadata": {},
          "execution_count": 2
        }
      ]
    },
    {
      "cell_type": "code",
      "source": [
        "df.columns\n",
        "# df.info()\n",
        "# df.describe()"
      ],
      "metadata": {
        "colab": {
          "base_uri": "https://localhost:8080/",
          "height": 300
        },
        "id": "C46C95t2Ab3C",
        "outputId": "a2ca0b13-058c-4f87-9976-2feac78d6bfa"
      },
      "execution_count": null,
      "outputs": [
        {
          "output_type": "execute_result",
          "data": {
            "text/plain": [
              "       unemployment_rate  rank   latitude   longitude\n",
              "count          50.000000   1.0  50.000000   50.000000\n",
              "mean            3.190000  40.0  39.706872  -93.716847\n",
              "std             0.749762   NaN   6.355082   19.075040\n",
              "min             1.900000  40.0  21.309920 -157.858158\n",
              "25%             2.600000  40.0  35.530313 -104.692849\n",
              "50%             3.200000  40.0  39.630142  -89.685913\n",
              "75%             3.700000  40.0  43.525754  -79.562783\n",
              "max             5.400000  40.0  64.836661  -68.986647"
            ],
            "text/html": [
              "\n",
              "  <div id=\"df-402357a7-c1f5-4c86-84b3-4a673faf1130\">\n",
              "    <div class=\"colab-df-container\">\n",
              "      <div>\n",
              "<style scoped>\n",
              "    .dataframe tbody tr th:only-of-type {\n",
              "        vertical-align: middle;\n",
              "    }\n",
              "\n",
              "    .dataframe tbody tr th {\n",
              "        vertical-align: top;\n",
              "    }\n",
              "\n",
              "    .dataframe thead th {\n",
              "        text-align: right;\n",
              "    }\n",
              "</style>\n",
              "<table border=\"1\" class=\"dataframe\">\n",
              "  <thead>\n",
              "    <tr style=\"text-align: right;\">\n",
              "      <th></th>\n",
              "      <th>unemployment_rate</th>\n",
              "      <th>rank</th>\n",
              "      <th>latitude</th>\n",
              "      <th>longitude</th>\n",
              "    </tr>\n",
              "  </thead>\n",
              "  <tbody>\n",
              "    <tr>\n",
              "      <th>count</th>\n",
              "      <td>50.000000</td>\n",
              "      <td>1.0</td>\n",
              "      <td>50.000000</td>\n",
              "      <td>50.000000</td>\n",
              "    </tr>\n",
              "    <tr>\n",
              "      <th>mean</th>\n",
              "      <td>3.190000</td>\n",
              "      <td>40.0</td>\n",
              "      <td>39.706872</td>\n",
              "      <td>-93.716847</td>\n",
              "    </tr>\n",
              "    <tr>\n",
              "      <th>std</th>\n",
              "      <td>0.749762</td>\n",
              "      <td>NaN</td>\n",
              "      <td>6.355082</td>\n",
              "      <td>19.075040</td>\n",
              "    </tr>\n",
              "    <tr>\n",
              "      <th>min</th>\n",
              "      <td>1.900000</td>\n",
              "      <td>40.0</td>\n",
              "      <td>21.309920</td>\n",
              "      <td>-157.858158</td>\n",
              "    </tr>\n",
              "    <tr>\n",
              "      <th>25%</th>\n",
              "      <td>2.600000</td>\n",
              "      <td>40.0</td>\n",
              "      <td>35.530313</td>\n",
              "      <td>-104.692849</td>\n",
              "    </tr>\n",
              "    <tr>\n",
              "      <th>50%</th>\n",
              "      <td>3.200000</td>\n",
              "      <td>40.0</td>\n",
              "      <td>39.630142</td>\n",
              "      <td>-89.685913</td>\n",
              "    </tr>\n",
              "    <tr>\n",
              "      <th>75%</th>\n",
              "      <td>3.700000</td>\n",
              "      <td>40.0</td>\n",
              "      <td>43.525754</td>\n",
              "      <td>-79.562783</td>\n",
              "    </tr>\n",
              "    <tr>\n",
              "      <th>max</th>\n",
              "      <td>5.400000</td>\n",
              "      <td>40.0</td>\n",
              "      <td>64.836661</td>\n",
              "      <td>-68.986647</td>\n",
              "    </tr>\n",
              "  </tbody>\n",
              "</table>\n",
              "</div>\n",
              "      <button class=\"colab-df-convert\" onclick=\"convertToInteractive('df-402357a7-c1f5-4c86-84b3-4a673faf1130')\"\n",
              "              title=\"Convert this dataframe to an interactive table.\"\n",
              "              style=\"display:none;\">\n",
              "        \n",
              "  <svg xmlns=\"http://www.w3.org/2000/svg\" height=\"24px\"viewBox=\"0 0 24 24\"\n",
              "       width=\"24px\">\n",
              "    <path d=\"M0 0h24v24H0V0z\" fill=\"none\"/>\n",
              "    <path d=\"M18.56 5.44l.94 2.06.94-2.06 2.06-.94-2.06-.94-.94-2.06-.94 2.06-2.06.94zm-11 1L8.5 8.5l.94-2.06 2.06-.94-2.06-.94L8.5 2.5l-.94 2.06-2.06.94zm10 10l.94 2.06.94-2.06 2.06-.94-2.06-.94-.94-2.06-.94 2.06-2.06.94z\"/><path d=\"M17.41 7.96l-1.37-1.37c-.4-.4-.92-.59-1.43-.59-.52 0-1.04.2-1.43.59L10.3 9.45l-7.72 7.72c-.78.78-.78 2.05 0 2.83L4 21.41c.39.39.9.59 1.41.59.51 0 1.02-.2 1.41-.59l7.78-7.78 2.81-2.81c.8-.78.8-2.07 0-2.86zM5.41 20L4 18.59l7.72-7.72 1.47 1.35L5.41 20z\"/>\n",
              "  </svg>\n",
              "      </button>\n",
              "      \n",
              "  <style>\n",
              "    .colab-df-container {\n",
              "      display:flex;\n",
              "      flex-wrap:wrap;\n",
              "      gap: 12px;\n",
              "    }\n",
              "\n",
              "    .colab-df-convert {\n",
              "      background-color: #E8F0FE;\n",
              "      border: none;\n",
              "      border-radius: 50%;\n",
              "      cursor: pointer;\n",
              "      display: none;\n",
              "      fill: #1967D2;\n",
              "      height: 32px;\n",
              "      padding: 0 0 0 0;\n",
              "      width: 32px;\n",
              "    }\n",
              "\n",
              "    .colab-df-convert:hover {\n",
              "      background-color: #E2EBFA;\n",
              "      box-shadow: 0px 1px 2px rgba(60, 64, 67, 0.3), 0px 1px 3px 1px rgba(60, 64, 67, 0.15);\n",
              "      fill: #174EA6;\n",
              "    }\n",
              "\n",
              "    [theme=dark] .colab-df-convert {\n",
              "      background-color: #3B4455;\n",
              "      fill: #D2E3FC;\n",
              "    }\n",
              "\n",
              "    [theme=dark] .colab-df-convert:hover {\n",
              "      background-color: #434B5C;\n",
              "      box-shadow: 0px 1px 3px 1px rgba(0, 0, 0, 0.15);\n",
              "      filter: drop-shadow(0px 1px 2px rgba(0, 0, 0, 0.3));\n",
              "      fill: #FFFFFF;\n",
              "    }\n",
              "  </style>\n",
              "\n",
              "      <script>\n",
              "        const buttonEl =\n",
              "          document.querySelector('#df-402357a7-c1f5-4c86-84b3-4a673faf1130 button.colab-df-convert');\n",
              "        buttonEl.style.display =\n",
              "          google.colab.kernel.accessAllowed ? 'block' : 'none';\n",
              "\n",
              "        async function convertToInteractive(key) {\n",
              "          const element = document.querySelector('#df-402357a7-c1f5-4c86-84b3-4a673faf1130');\n",
              "          const dataTable =\n",
              "            await google.colab.kernel.invokeFunction('convertToInteractive',\n",
              "                                                     [key], {});\n",
              "          if (!dataTable) return;\n",
              "\n",
              "          const docLinkHtml = 'Like what you see? Visit the ' +\n",
              "            '<a target=\"_blank\" href=https://colab.research.google.com/notebooks/data_table.ipynb>data table notebook</a>'\n",
              "            + ' to learn more about interactive tables.';\n",
              "          element.innerHTML = '';\n",
              "          dataTable['output_type'] = 'display_data';\n",
              "          await google.colab.output.renderOutput(dataTable, element);\n",
              "          const docLink = document.createElement('div');\n",
              "          docLink.innerHTML = docLinkHtml;\n",
              "          element.appendChild(docLink);\n",
              "        }\n",
              "      </script>\n",
              "    </div>\n",
              "  </div>\n",
              "  "
            ]
          },
          "metadata": {},
          "execution_count": 113
        }
      ]
    },
    {
      "cell_type": "markdown",
      "source": [
        "Statistics"
      ],
      "metadata": {
        "id": "D3zSlSRuEw-u"
      }
    },
    {
      "cell_type": "code",
      "source": [
        "max = df[\"unemployment_rate\"].max()\n",
        "min = df[\"unemployment_rate\"].min()\n",
        "mean = df[\"unemployment_rate\"].mean()\n",
        "print(f'The highest unemployemnt rate is {max}')\n",
        "print(f'The lowest unemployemnt rate is {min}')\n",
        "print(f'The mean unemployemnt rate is {mean}')"
      ],
      "metadata": {
        "colab": {
          "base_uri": "https://localhost:8080/"
        },
        "id": "pTIbv80eAi3Y",
        "outputId": "cde299c8-578d-4bc1-ea86-7be7ff92bea2"
      },
      "execution_count": null,
      "outputs": [
        {
          "output_type": "stream",
          "name": "stdout",
          "text": [
            "The highest unemployemnt rate is 5.4\n",
            "The lowest unemployemnt rate is 1.9\n",
            "The mean unemployemnt rate is 3.19\n"
          ]
        }
      ]
    },
    {
      "cell_type": "code",
      "source": [
        "df.groupby(\"unemployment_rate\")[\"latitude\"].mean()"
      ],
      "metadata": {
        "id": "qmMNmv7RCAom"
      },
      "execution_count": null,
      "outputs": []
    },
    {
      "cell_type": "markdown",
      "source": [
        "## CHARTS!"
      ],
      "metadata": {
        "id": "cdsWqiv5Fn3I"
      }
    },
    {
      "cell_type": "code",
      "source": [
        "col = df.columns\n",
        "col\n",
        "df.plot();\n",
        "# df[col[1]].plot();"
      ],
      "metadata": {
        "colab": {
          "base_uri": "https://localhost:8080/",
          "height": 440
        },
        "id": "C2Sy7sXTEvGi",
        "outputId": "457a18a3-dd83-430a-e638-90cdf0b3eed1"
      },
      "execution_count": 54,
      "outputs": [
        {
          "output_type": "display_data",
          "data": {
            "text/plain": [
              "<Figure size 640x480 with 1 Axes>"
            ],
            "image/png": "[encoded data removed]"
          },
          "metadata": {}
        }
      ]
    },
    {
      "cell_type": "markdown",
      "source": [],
      "metadata": {
        "id": "x5e-LH4ahYRt"
      }
    },
    {
      "cell_type": "code",
      "source": [
        "import matplotlib.pyplot as plt\n",
        "plt.style.available"
      ],
      "metadata": {
        "colab": {
          "base_uri": "https://localhost:8080/"
        },
        "id": "vL42r6EHg4C5",
        "outputId": "73bf32a5-ce52-4a8d-9ffa-138b94015468"
      },
      "execution_count": 62,
      "outputs": [
        {
          "output_type": "execute_result",
          "data": {
            "text/plain": [
              "['Solarize_Light2',\n",
              " '_classic_test_patch',\n",
              " '_mpl-gallery',\n",
              " '_mpl-gallery-nogrid',\n",
              " 'bmh',\n",
              " 'classic',\n",
              " 'dark_background',\n",
              " 'fast',\n",
              " 'fivethirtyeight',\n",
              " 'ggplot',\n",
              " 'grayscale',\n",
              " 'seaborn-v0_8',\n",
              " 'seaborn-v0_8-bright',\n",
              " 'seaborn-v0_8-colorblind',\n",
              " 'seaborn-v0_8-dark',\n",
              " 'seaborn-v0_8-dark-palette',\n",
              " 'seaborn-v0_8-darkgrid',\n",
              " 'seaborn-v0_8-deep',\n",
              " 'seaborn-v0_8-muted',\n",
              " 'seaborn-v0_8-notebook',\n",
              " 'seaborn-v0_8-paper',\n",
              " 'seaborn-v0_8-pastel',\n",
              " 'seaborn-v0_8-poster',\n",
              " 'seaborn-v0_8-talk',\n",
              " 'seaborn-v0_8-ticks',\n",
              " 'seaborn-v0_8-white',\n",
              " 'seaborn-v0_8-whitegrid',\n",
              " 'tableau-colorblind10']"
            ]
          },
          "metadata": {},
          "execution_count": 62
        }
      ]
    },
    {
      "cell_type": "markdown",
      "source": [
        "## YOU WANT IT DARKER"
      ],
      "metadata": {
        "id": "-4CmUtrYhbTh"
      }
    },
    {
      "cell_type": "code",
      "source": [
        "plt.style.use('dark_background')\n",
        "df.plot()"
      ],
      "metadata": {
        "colab": {
          "base_uri": "https://localhost:8080/",
          "height": 457
        },
        "id": "AkRV1KnOhIu3",
        "outputId": "b2a534df-d131-46c6-b419-2a0b8eb0dc39"
      },
      "execution_count": 56,
      "outputs": [
        {
          "output_type": "execute_result",
          "data": {
            "text/plain": [
              "<Axes: >"
            ]
          },
          "metadata": {},
          "execution_count": 56
        },
        {
          "output_type": "display_data",
          "data": {
            "text/plain": [
              "<Figure size 640x480 with 1 Axes>"
            ],
            "image/png": "[encoded data removed]"
          },
          "metadata": {}
        }
      ]
    },
    {
      "cell_type": "markdown",
      "source": [
        "### Exporting Data"
      ],
      "metadata": {
        "id": "rKYw8hgIGdox"
      }
    },
    {
      "cell_type": "code",
      "source": [
        "# saves to google drive\n",
        "df.to_csv('unemployment_data')"
      ],
      "metadata": {
        "id": "gVIx50fbGGo4"
      },
      "execution_count": null,
      "outputs": []
    },
    {
      "cell_type": "markdown",
      "source": [
        "and finally..."
      ],
      "metadata": {
        "id": "JWMQ_fBHGsx7"
      }
    },
    {
      "cell_type": "markdown",
      "source": [
        "# GeoPandas!"
      ],
      "metadata": {
        "id": "7u2r1jsAGmIn"
      }
    },
    {
      "cell_type": "markdown",
      "source": [
        "## NOTE MUST USE GEOPANDAS v0.12.2 IN COLAB\n",
        "Fiona read_file() fails with v0.13.0!"
      ],
      "metadata": {
        "id": "4Hf07g33G4Cl"
      }
    },
    {
      "cell_type": "code",
      "source": [
        "!pip install geopandas==0.12.2\n",
        "import geopandas as gpd"
      ],
      "metadata": {
        "id": "GDFj4cCRZ3l_"
      },
      "execution_count": null,
      "outputs": []
    },
    {
      "cell_type": "code",
      "source": [
        "!pip install mapclassify\n",
        "from mapclassify import classify\n",
        "import matplotlib.pyplot as plt"
      ],
      "metadata": {
        "id": "j2oBfpbhmC9q"
      },
      "execution_count": null,
      "outputs": []
    },
    {
      "cell_type": "markdown",
      "source": [
        "Show supported vector filetypes"
      ],
      "metadata": {
        "id": "_QOyt-r2aqpC"
      }
    },
    {
      "cell_type": "code",
      "source": [
        "import fiona; fiona.supported_drivers"
      ],
      "metadata": {
        "id": "V204YnH_IIeR"
      },
      "execution_count": null,
      "outputs": []
    },
    {
      "cell_type": "markdown",
      "source": [
        "Read directly from URL as GeoJSON"
      ],
      "metadata": {
        "id": "UIOE-w1ndUBh"
      }
    },
    {
      "cell_type": "code",
      "source": [
        "url = 'https://data.michigan.gov/resource/qj2w-9cqv.geojson'\n",
        "gdf = gpd.read_file(filename=url)\n",
        "gdf.head()"
      ],
      "metadata": {
        "id": "-QiMD9-HG68B",
        "colab": {
          "base_uri": "https://localhost:8080/",
          "height": 424
        },
        "outputId": "7b3a2111-1a1e-4b07-d1ec-8ef5e7ef67ae"
      },
      "execution_count": 9,
      "outputs": [
        {
          "output_type": "execute_result",
          "data": {
            "text/plain": [
              "  highlights                           location_1   latitude       state rank  \\\n",
              "0        NaN      Alabama (32.839182, -86.631125)  32.839182     Alabama  NaN   \n",
              "1        NaN      Alaska (64.836661, -147.738891)  64.836661      Alaska  NaN   \n",
              "2        NaN     Arizona (34.869712, -111.760902)  34.869712     Arizona  NaN   \n",
              "3        NaN     Arkansas (34.748745, -92.275105)  34.748745    Arkansas  NaN   \n",
              "4        NaN  California (37.640735, -121.002435)  37.640735  California  NaN   \n",
              "\n",
              "     longitude unemployment_rate month                     geometry  \n",
              "0   -86.631125             2.200   NaN   POINT (-86.63112 32.83918)  \n",
              "1  -147.738891             3.700   NaN  POINT (-147.73889 64.83666)  \n",
              "2  -111.760902             3.400   NaN  POINT (-111.76090 34.86971)  \n",
              "3   -92.275105             2.800   NaN   POINT (-92.27510 34.74874)  \n",
              "4  -121.002435             4.500   NaN  POINT (-121.00244 37.64073)  "
            ],
            "text/html": [
              "\n",
              "  <div id=\"df-aa2ab583-a906-43b4-b636-44616799eb70\">\n",
              "    <div class=\"colab-df-container\">\n",
              "      <div>\n",
              "<style scoped>\n",
              "    .dataframe tbody tr th:only-of-type {\n",
              "        vertical-align: middle;\n",
              "    }\n",
              "\n",
              "    .dataframe tbody tr th {\n",
              "        vertical-align: top;\n",
              "    }\n",
              "\n",
              "    .dataframe thead th {\n",
              "        text-align: right;\n",
              "    }\n",
              "</style>\n",
              "<table border=\"1\" class=\"dataframe\">\n",
              "  <thead>\n",
              "    <tr style=\"text-align: right;\">\n",
              "      <th></th>\n",
              "      <th>highlights</th>\n",
              "      <th>location_1</th>\n",
              "      <th>latitude</th>\n",
              "      <th>state</th>\n",
              "      <th>rank</th>\n",
              "      <th>longitude</th>\n",
              "      <th>unemployment_rate</th>\n",
              "      <th>month</th>\n",
              "      <th>geometry</th>\n",
              "    </tr>\n",
              "  </thead>\n",
              "  <tbody>\n",
              "    <tr>\n",
              "      <th>0</th>\n",
              "      <td>NaN</td>\n",
              "      <td>Alabama (32.839182, -86.631125)</td>\n",
              "      <td>32.839182</td>\n",
              "      <td>Alabama</td>\n",
              "      <td>NaN</td>\n",
              "      <td>-86.631125</td>\n",
              "      <td>2.200</td>\n",
              "      <td>NaN</td>\n",
              "      <td>POINT (-86.63112 32.83918)</td>\n",
              "    </tr>\n",
              "    <tr>\n",
              "      <th>1</th>\n",
              "      <td>NaN</td>\n",
              "      <td>Alaska (64.836661, -147.738891)</td>\n",
              "      <td>64.836661</td>\n",
              "      <td>Alaska</td>\n",
              "      <td>NaN</td>\n",
              "      <td>-147.738891</td>\n",
              "      <td>3.700</td>\n",
              "      <td>NaN</td>\n",
              "      <td>POINT (-147.73889 64.83666)</td>\n",
              "    </tr>\n",
              "    <tr>\n",
              "      <th>2</th>\n",
              "      <td>NaN</td>\n",
              "      <td>Arizona (34.869712, -111.760902)</td>\n",
              "      <td>34.869712</td>\n",
              "      <td>Arizona</td>\n",
              "      <td>NaN</td>\n",
              "      <td>-111.760902</td>\n",
              "      <td>3.400</td>\n",
              "      <td>NaN</td>\n",
              "      <td>POINT (-111.76090 34.86971)</td>\n",
              "    </tr>\n",
              "    <tr>\n",
              "      <th>3</th>\n",
              "      <td>NaN</td>\n",
              "      <td>Arkansas (34.748745, -92.275105)</td>\n",
              "      <td>34.748745</td>\n",
              "      <td>Arkansas</td>\n",
              "      <td>NaN</td>\n",
              "      <td>-92.275105</td>\n",
              "      <td>2.800</td>\n",
              "      <td>NaN</td>\n",
              "      <td>POINT (-92.27510 34.74874)</td>\n",
              "    </tr>\n",
              "    <tr>\n",
              "      <th>4</th>\n",
              "      <td>NaN</td>\n",
              "      <td>California (37.640735, -121.002435)</td>\n",
              "      <td>37.640735</td>\n",
              "      <td>California</td>\n",
              "      <td>NaN</td>\n",
              "      <td>-121.002435</td>\n",
              "      <td>4.500</td>\n",
              "      <td>NaN</td>\n",
              "      <td>POINT (-121.00244 37.64073)</td>\n",
              "    </tr>\n",
              "  </tbody>\n",
              "</table>\n",
              "</div>\n",
              "      <button class=\"colab-df-convert\" onclick=\"convertToInteractive('df-aa2ab583-a906-43b4-b636-44616799eb70')\"\n",
              "              title=\"Convert this dataframe to an interactive table.\"\n",
              "              style=\"display:none;\">\n",
              "        \n",
              "  <svg xmlns=\"http://www.w3.org/2000/svg\" height=\"24px\"viewBox=\"0 0 24 24\"\n",
              "       width=\"24px\">\n",
              "    <path d=\"M0 0h24v24H0V0z\" fill=\"none\"/>\n",
              "    <path d=\"M18.56 5.44l.94 2.06.94-2.06 2.06-.94-2.06-.94-.94-2.06-.94 2.06-2.06.94zm-11 1L8.5 8.5l.94-2.06 2.06-.94-2.06-.94L8.5 2.5l-.94 2.06-2.06.94zm10 10l.94 2.06.94-2.06 2.06-.94-2.06-.94-.94-2.06-.94 2.06-2.06.94z\"/><path d=\"M17.41 7.96l-1.37-1.37c-.4-.4-.92-.59-1.43-.59-.52 0-1.04.2-1.43.59L10.3 9.45l-7.72 7.72c-.78.78-.78 2.05 0 2.83L4 21.41c.39.39.9.59 1.41.59.51 0 1.02-.2 1.41-.59l7.78-7.78 2.81-2.81c.8-.78.8-2.07 0-2.86zM5.41 20L4 18.59l7.72-7.72 1.47 1.35L5.41 20z\"/>\n",
              "  </svg>\n",
              "      </button>\n",
              "      \n",
              "  <style>\n",
              "    .colab-df-container {\n",
              "      display:flex;\n",
              "      flex-wrap:wrap;\n",
              "      gap: 12px;\n",
              "    }\n",
              "\n",
              "    .colab-df-convert {\n",
              "      background-color: #E8F0FE;\n",
              "      border: none;\n",
              "      border-radius: 50%;\n",
              "      cursor: pointer;\n",
              "      display: none;\n",
              "      fill: #1967D2;\n",
              "      height: 32px;\n",
              "      padding: 0 0 0 0;\n",
              "      width: 32px;\n",
              "    }\n",
              "\n",
              "    .colab-df-convert:hover {\n",
              "      background-color: #E2EBFA;\n",
              "      box-shadow: 0px 1px 2px rgba(60, 64, 67, 0.3), 0px 1px 3px 1px rgba(60, 64, 67, 0.15);\n",
              "      fill: #174EA6;\n",
              "    }\n",
              "\n",
              "    [theme=dark] .colab-df-convert {\n",
              "      background-color: #3B4455;\n",
              "      fill: #D2E3FC;\n",
              "    }\n",
              "\n",
              "    [theme=dark] .colab-df-convert:hover {\n",
              "      background-color: #434B5C;\n",
              "      box-shadow: 0px 1px 3px 1px rgba(0, 0, 0, 0.15);\n",
              "      filter: drop-shadow(0px 1px 2px rgba(0, 0, 0, 0.3));\n",
              "      fill: #FFFFFF;\n",
              "    }\n",
              "  </style>\n",
              "\n",
              "      <script>\n",
              "        const buttonEl =\n",
              "          document.querySelector('#df-aa2ab583-a906-43b4-b636-44616799eb70 button.colab-df-convert');\n",
              "        buttonEl.style.display =\n",
              "          google.colab.kernel.accessAllowed ? 'block' : 'none';\n",
              "\n",
              "        async function convertToInteractive(key) {\n",
              "          const element = document.querySelector('#df-aa2ab583-a906-43b4-b636-44616799eb70');\n",
              "          const dataTable =\n",
              "            await google.colab.kernel.invokeFunction('convertToInteractive',\n",
              "                                                     [key], {});\n",
              "          if (!dataTable) return;\n",
              "\n",
              "          const docLinkHtml = 'Like what you see? Visit the ' +\n",
              "            '<a target=\"_blank\" href=https://colab.research.google.com/notebooks/data_table.ipynb>data table notebook</a>'\n",
              "            + ' to learn more about interactive tables.';\n",
              "          element.innerHTML = '';\n",
              "          dataTable['output_type'] = 'display_data';\n",
              "          await google.colab.output.renderOutput(dataTable, element);\n",
              "          const docLink = document.createElement('div');\n",
              "          docLink.innerHTML = docLinkHtml;\n",
              "          element.appendChild(docLink);\n",
              "        }\n",
              "      </script>\n",
              "    </div>\n",
              "  </div>\n",
              "  "
            ]
          },
          "metadata": {},
          "execution_count": 9
        }
      ]
    },
    {
      "cell_type": "markdown",
      "source": [
        "We can even create GIS data from the CSV!    \n",
        "[GeoPandas Docs](https://geopandas.org/en/stable/gallery/create_geopandas_from_pandas.html)"
      ],
      "metadata": {
        "id": "C8D78pzKfNYz"
      }
    },
    {
      "cell_type": "code",
      "source": [
        "gdf.plot()"
      ],
      "metadata": {
        "colab": {
          "base_uri": "https://localhost:8080/",
          "height": 410
        },
        "id": "wlxy2g_3lu2S",
        "outputId": "f99b4d1f-59f4-4977-abd7-169653ebab6e"
      },
      "execution_count": 10,
      "outputs": [
        {
          "output_type": "execute_result",
          "data": {
            "text/plain": [
              "<Axes: >"
            ]
          },
          "metadata": {},
          "execution_count": 10
        },
        {
          "output_type": "display_data",
          "data": {
            "text/plain": [
              "<Figure size 640x480 with 1 Axes>"
            ],
            "image/png": "[encoded data removed]"
          },
          "metadata": {}
        }
      ]
    },
    {
      "cell_type": "code",
      "source": [
        "# from shapely.geometry import Point\n",
        "# read in csv from original URL, create dataframe\n",
        "csv_URL = \"https://data.michigan.gov/resource/qj2w-9cqv.csv\"\n",
        "df = pd.read_csv(csv_URL)\n",
        "# create GeoDataframe from dataframe, use point geometry in \"geocoded_column\"\n",
        "gdf = gpd.GeoDataFrame(df, geometry = gpd.GeoSeries.from_wkt(df['geocoded_column']), crs = 'EPSG:4326')\n",
        "gdf.head()"
      ],
      "metadata": {
        "id": "4d4AXREpa4Uu"
      },
      "execution_count": null,
      "outputs": []
    },
    {
      "cell_type": "code",
      "source": [
        "gdf.info()"
      ],
      "metadata": {
        "colab": {
          "base_uri": "https://localhost:8080/"
        },
        "id": "eSRwtjUCnbc5",
        "outputId": "0192b112-19c8-4920-8be6-35d85bd93306"
      },
      "execution_count": 49,
      "outputs": [
        {
          "output_type": "stream",
          "name": "stdout",
          "text": [
            "<class 'geopandas.geodataframe.GeoDataFrame'>\n",
            "RangeIndex: 50 entries, 0 to 49\n",
            "Data columns (total 10 columns):\n",
            " #   Column              Non-Null Count  Dtype   \n",
            "---  ------              --------------  -----   \n",
            " 0   highlights          1 non-null      object  \n",
            " 1   location_1          50 non-null     object  \n",
            " 2   latitude            50 non-null     object  \n",
            " 3   state               50 non-null     object  \n",
            " 4   rank                1 non-null      object  \n",
            " 5   longitude           50 non-null     object  \n",
            " 6   unemployment_rate   0 non-null      float64 \n",
            " 7   month               1 non-null      object  \n",
            " 8   geometry            50 non-null     geometry\n",
            " 9   unemployment_rate2  0 non-null      object  \n",
            "dtypes: float64(1), geometry(1), object(8)\n",
            "memory usage: 4.0+ KB\n"
          ]
        }
      ]
    },
    {
      "cell_type": "code",
      "source": [
        "gdf['unemployment_rate'] = gdf['unemployment_rate'].astype(float)\n",
        "gdf.info()"
      ],
      "metadata": {
        "colab": {
          "base_uri": "https://localhost:8080/"
        },
        "id": "LqRB2IAsngMA",
        "outputId": "5fc6feae-a8e9-4581-c3cd-9db83ec44436"
      },
      "execution_count": 11,
      "outputs": [
        {
          "output_type": "stream",
          "name": "stdout",
          "text": [
            "<class 'geopandas.geodataframe.GeoDataFrame'>\n",
            "RangeIndex: 50 entries, 0 to 49\n",
            "Data columns (total 9 columns):\n",
            " #   Column             Non-Null Count  Dtype   \n",
            "---  ------             --------------  -----   \n",
            " 0   highlights         1 non-null      object  \n",
            " 1   location_1         50 non-null     object  \n",
            " 2   latitude           50 non-null     object  \n",
            " 3   state              50 non-null     object  \n",
            " 4   rank               1 non-null      object  \n",
            " 5   longitude          50 non-null     object  \n",
            " 6   unemployment_rate  50 non-null     float64 \n",
            " 7   month              1 non-null      object  \n",
            " 8   geometry           50 non-null     geometry\n",
            "dtypes: float64(1), geometry(1), object(7)\n",
            "memory usage: 3.6+ KB\n"
          ]
        }
      ]
    },
    {
      "cell_type": "markdown",
      "source": [
        "## What About Maps?"
      ],
      "metadata": {
        "id": "UzWe3LxRX-WX"
      }
    },
    {
      "cell_type": "code",
      "source": [
        "cmap = ['seismic', 'magma', 'inferno', 'viridis']\n",
        "gdf = gdf.to_crs(epsg=3857)\n",
        "fig, ax = plt.subplots(figsize=(8,10),facecolor='#0f0f0f')\n",
        "ax.set_aspect('equal')\n",
        "ax.set_xticklabels([])\n",
        "ax.set_yticklabels([])\n",
        "gdf.plot(ax=ax, column='unemployment_rate', scheme=\"Quantiles\", legend=True, cmap=cmap[3], \n",
        "         edgecolor='white', linewidth=0, markersize=80, \n",
        "         legend_kwds={\"loc\": \"center left\"})\n",
        "plt.title(f'Unemployment Rate By State - {cmap[2]}', fontsize=18, color='white')\n",
        "ax.set_axis_off()"
      ],
      "metadata": {
        "colab": {
          "base_uri": "https://localhost:8080/",
          "height": 511
        },
        "id": "OSBFLb2NhhNm",
        "outputId": "2c8eacc6-a151-441c-e9f6-fa285d684f4c"
      },
      "execution_count": 13,
      "outputs": [
        {
          "output_type": "display_data",
          "data": {
            "text/plain": [
              "<Figure size 800x1000 with 1 Axes>"
            ],
            "image/png": "[encoded data removed]"
          },
          "metadata": {}
        }
      ]
    },
    {
      "cell_type": "code",
      "source": [
        "gpd.datasets.available"
      ],
      "metadata": {
        "colab": {
          "base_uri": "https://localhost:8080/"
        },
        "id": "TloDnZF5xjBx",
        "outputId": "cce748ce-4d79-444f-b3f7-2e26d8cae9f4"
      },
      "execution_count": 83,
      "outputs": [
        {
          "output_type": "execute_result",
          "data": {
            "text/plain": [
              "['naturalearth_cities', 'naturalearth_lowres', 'nybb']"
            ]
          },
          "metadata": {},
          "execution_count": 83
        }
      ]
    },
    {
      "cell_type": "code",
      "source": [
        "earthPath = gpd.datasets.get_path('naturalearth_lowres')\n",
        "earthPath\n",
        "gdfEarth = gpd.read_file(earthPath)\n",
        "gdfEarth.plot();"
      ],
      "metadata": {
        "colab": {
          "base_uri": "https://localhost:8080/",
          "height": 300
        },
        "id": "S4EkCTW3xKSA",
        "outputId": "19ae0b33-0e76-43f2-9914-ae1bb60ad21c"
      },
      "execution_count": 84,
      "outputs": [
        {
          "output_type": "display_data",
          "data": {
            "text/plain": [
              "<Figure size 640x480 with 1 Axes>"
            ],
            "image/png": "[encoded data removed]"
          },
          "metadata": {}
        }
      ]
    },
    {
      "cell_type": "code",
      "source": [
        "usStatesLivingAtlas = 'https://services.arcgis.com/P3ePLMYs2RVChkJx/ArcGIS/rest/services/USA_Census_States/FeatureServer/0/query?where=1%3D1&objectIds=&time=&geometry=&geometryType=esriGeometryEnvelope&inSR=&spatialRel=esriSpatialRelIntersects&resultType=none&distance=0.0&units=esriSRUnit_Meter&relationParam=&returnGeodetic=false&outFields=*&returnGeometry=true&returnCentroid=false&featureEncoding=esriDefault&multipatchOption=xyFootprint&maxAllowableOffset=&geometryPrecision=&outSR=&defaultSR=&datumTransformation=&applyVCSProjection=false&returnIdsOnly=false&returnUniqueIdsOnly=false&returnCountOnly=false&returnExtentOnly=false&returnQueryGeometry=false&returnDistinctValues=false&cacheHint=false&orderByFields=&groupByFieldsForStatistics=&outStatistics=&having=&resultOffset=&resultRecordCount=&returnZ=false&returnM=false&returnExceededLimitFeatures=true&quantizationParameters=&sqlFormat=none&f=pgeojson&token='\n",
        "gdf = gpd.read_file(filename=usStatesLivingAtlas)\n",
        "gdf.head()\n"
      ],
      "metadata": {
        "id": "cr1S5BbLDvjX"
      },
      "execution_count": null,
      "outputs": []
    },
    {
      "cell_type": "markdown",
      "source": [
        "## Better Maps..."
      ],
      "metadata": {
        "id": "MhK47eROYGXH"
      }
    },
    {
      "cell_type": "code",
      "source": [
        "statesURL = 'https://services.arcgis.com/P3ePLMYs2RVChkJx/ArcGIS/rest/services/USA_States_Generalized_Boundaries/FeatureServer/0/query?where=1%3D1&objectIds=&time=&geometry=&geometryType=esriGeometryEnvelope&inSR=&spatialRel=esriSpatialRelIntersects&resultType=none&distance=0.0&units=esriSRUnit_Meter&relationParam=&returnGeodetic=false&outFields=*&returnGeometry=true&returnCentroid=false&featureEncoding=esriDefault&multipatchOption=xyFootprint&maxAllowableOffset=&geometryPrecision=&outSR=&defaultSR=&datumTransformation=&applyVCSProjection=false&returnIdsOnly=false&returnUniqueIdsOnly=false&returnCountOnly=false&returnExtentOnly=false&returnQueryGeometry=false&returnDistinctValues=false&cacheHint=false&orderByFields=&groupByFieldsForStatistics=&outStatistics=&having=&resultOffset=&resultRecordCount=&returnZ=false&returnM=false&returnExceededLimitFeatures=true&quantizationParameters=&sqlFormat=none&f=pgeojson&token='\n",
        "states = gpd.read_file(filename=statesURL)\n",
        "states.head()\n"
      ],
      "metadata": {
        "colab": {
          "base_uri": "https://localhost:8080/",
          "height": 583
        },
        "id": "RaaggFGPR1yJ",
        "outputId": "6c05a730-ed01-4ea9-fa74-5b7d9b02c6d4"
      },
      "execution_count": 14,
      "outputs": [
        {
          "output_type": "execute_result",
          "data": {
            "text/plain": [
              "   OBJECTID STATE_ABBR STATE_FIPS  STATE_NAME  POPULATION  POP_SQMI  \\\n",
              "0         1         AL         01     Alabama     5024279      97.3   \n",
              "1         2         AK         02      Alaska      733391       1.2   \n",
              "2         3         AZ         04     Arizona     7151502      62.7   \n",
              "3         4         AR         05    Arkansas     3011524      56.6   \n",
              "4         5         CA         06  California    39538223     250.2   \n",
              "\n",
              "        SQMI  Shape__Area  Shape__Length  \\\n",
              "0   51632.79    12.897169      17.237658   \n",
              "1  587044.59   277.702990     402.448812   \n",
              "2  113984.70    28.859090      23.257270   \n",
              "3   53198.23    13.517465      20.877179   \n",
              "4  158036.99    41.533618      42.260157   \n",
              "\n",
              "                                            geometry  \n",
              "0  POLYGON ((-85.07007 31.98070, -85.11515 31.907...  \n",
              "1  MULTIPOLYGON (((-177.91031 51.59048, -178.1033...  \n",
              "2  POLYGON ((-114.52063 33.02771, -114.55909 33.0...  \n",
              "3  POLYGON ((-94.46169 34.19677, -94.45262 34.508...  \n",
              "4  MULTIPOLYGON (((-121.66522 38.16929, -121.7823...  "
            ],
            "text/html": [
              "\n",
              "  <div id=\"df-0ca2d0c6-a2bc-40ad-abc8-c5b9f7b3f9cb\">\n",
              "    <div class=\"colab-df-container\">\n",
              "      <div>\n",
              "<style scoped>\n",
              "    .dataframe tbody tr th:only-of-type {\n",
              "        vertical-align: middle;\n",
              "    }\n",
              "\n",
              "    .dataframe tbody tr th {\n",
              "        vertical-align: top;\n",
              "    }\n",
              "\n",
              "    .dataframe thead th {\n",
              "        text-align: right;\n",
              "    }\n",
              "</style>\n",
              "<table border=\"1\" class=\"dataframe\">\n",
              "  <thead>\n",
              "    <tr style=\"text-align: right;\">\n",
              "      <th></th>\n",
              "      <th>OBJECTID</th>\n",
              "      <th>STATE_ABBR</th>\n",
              "      <th>STATE_FIPS</th>\n",
              "      <th>STATE_NAME</th>\n",
              "      <th>POPULATION</th>\n",
              "      <th>POP_SQMI</th>\n",
              "      <th>SQMI</th>\n",
              "      <th>Shape__Area</th>\n",
              "      <th>Shape__Length</th>\n",
              "      <th>geometry</th>\n",
              "    </tr>\n",
              "  </thead>\n",
              "  <tbody>\n",
              "    <tr>\n",
              "      <th>0</th>\n",
              "      <td>1</td>\n",
              "      <td>AL</td>\n",
              "      <td>01</td>\n",
              "      <td>Alabama</td>\n",
              "      <td>5024279</td>\n",
              "      <td>97.3</td>\n",
              "      <td>51632.79</td>\n",
              "      <td>12.897169</td>\n",
              "      <td>17.237658</td>\n",
              "      <td>POLYGON ((-85.07007 31.98070, -85.11515 31.907...</td>\n",
              "    </tr>\n",
              "    <tr>\n",
              "      <th>1</th>\n",
              "      <td>2</td>\n",
              "      <td>AK</td>\n",
              "      <td>02</td>\n",
              "      <td>Alaska</td>\n",
              "      <td>733391</td>\n",
              "      <td>1.2</td>\n",
              "      <td>587044.59</td>\n",
              "      <td>277.702990</td>\n",
              "      <td>402.448812</td>\n",
              "      <td>MULTIPOLYGON (((-177.91031 51.59048, -178.1033...</td>\n",
              "    </tr>\n",
              "    <tr>\n",
              "      <th>2</th>\n",
              "      <td>3</td>\n",
              "      <td>AZ</td>\n",
              "      <td>04</td>\n",
              "      <td>Arizona</td>\n",
              "      <td>7151502</td>\n",
              "      <td>62.7</td>\n",
              "      <td>113984.70</td>\n",
              "      <td>28.859090</td>\n",
              "      <td>23.257270</td>\n",
              "      <td>POLYGON ((-114.52063 33.02771, -114.55909 33.0...</td>\n",
              "    </tr>\n",
              "    <tr>\n",
              "      <th>3</th>\n",
              "      <td>4</td>\n",
              "      <td>AR</td>\n",
              "      <td>05</td>\n",
              "      <td>Arkansas</td>\n",
              "      <td>3011524</td>\n",
              "      <td>56.6</td>\n",
              "      <td>53198.23</td>\n",
              "      <td>13.517465</td>\n",
              "      <td>20.877179</td>\n",
              "      <td>POLYGON ((-94.46169 34.19677, -94.45262 34.508...</td>\n",
              "    </tr>\n",
              "    <tr>\n",
              "      <th>4</th>\n",
              "      <td>5</td>\n",
              "      <td>CA</td>\n",
              "      <td>06</td>\n",
              "      <td>California</td>\n",
              "      <td>39538223</td>\n",
              "      <td>250.2</td>\n",
              "      <td>158036.99</td>\n",
              "      <td>41.533618</td>\n",
              "      <td>42.260157</td>\n",
              "      <td>MULTIPOLYGON (((-121.66522 38.16929, -121.7823...</td>\n",
              "    </tr>\n",
              "  </tbody>\n",
              "</table>\n",
              "</div>\n",
              "      <button class=\"colab-df-convert\" onclick=\"convertToInteractive('df-0ca2d0c6-a2bc-40ad-abc8-c5b9f7b3f9cb')\"\n",
              "              title=\"Convert this dataframe to an interactive table.\"\n",
              "              style=\"display:none;\">\n",
              "        \n",
              "  <svg xmlns=\"http://www.w3.org/2000/svg\" height=\"24px\"viewBox=\"0 0 24 24\"\n",
              "       width=\"24px\">\n",
              "    <path d=\"M0 0h24v24H0V0z\" fill=\"none\"/>\n",
              "    <path d=\"M18.56 5.44l.94 2.06.94-2.06 2.06-.94-2.06-.94-.94-2.06-.94 2.06-2.06.94zm-11 1L8.5 8.5l.94-2.06 2.06-.94-2.06-.94L8.5 2.5l-.94 2.06-2.06.94zm10 10l.94 2.06.94-2.06 2.06-.94-2.06-.94-.94-2.06-.94 2.06-2.06.94z\"/><path d=\"M17.41 7.96l-1.37-1.37c-.4-.4-.92-.59-1.43-.59-.52 0-1.04.2-1.43.59L10.3 9.45l-7.72 7.72c-.78.78-.78 2.05 0 2.83L4 21.41c.39.39.9.59 1.41.59.51 0 1.02-.2 1.41-.59l7.78-7.78 2.81-2.81c.8-.78.8-2.07 0-2.86zM5.41 20L4 18.59l7.72-7.72 1.47 1.35L5.41 20z\"/>\n",
              "  </svg>\n",
              "      </button>\n",
              "      \n",
              "  <style>\n",
              "    .colab-df-container {\n",
              "      display:flex;\n",
              "      flex-wrap:wrap;\n",
              "      gap: 12px;\n",
              "    }\n",
              "\n",
              "    .colab-df-convert {\n",
              "      background-color: #E8F0FE;\n",
              "      border: none;\n",
              "      border-radius: 50%;\n",
              "      cursor: pointer;\n",
              "      display: none;\n",
              "      fill: #1967D2;\n",
              "      height: 32px;\n",
              "      padding: 0 0 0 0;\n",
              "      width: 32px;\n",
              "    }\n",
              "\n",
              "    .colab-df-convert:hover {\n",
              "      background-color: #E2EBFA;\n",
              "      box-shadow: 0px 1px 2px rgba(60, 64, 67, 0.3), 0px 1px 3px 1px rgba(60, 64, 67, 0.15);\n",
              "      fill: #174EA6;\n",
              "    }\n",
              "\n",
              "    [theme=dark] .colab-df-convert {\n",
              "      background-color: #3B4455;\n",
              "      fill: #D2E3FC;\n",
              "    }\n",
              "\n",
              "    [theme=dark] .colab-df-convert:hover {\n",
              "      background-color: #434B5C;\n",
              "      box-shadow: 0px 1px 3px 1px rgba(0, 0, 0, 0.15);\n",
              "      filter: drop-shadow(0px 1px 2px rgba(0, 0, 0, 0.3));\n",
              "      fill: #FFFFFF;\n",
              "    }\n",
              "  </style>\n",
              "\n",
              "      <script>\n",
              "        const buttonEl =\n",
              "          document.querySelector('#df-0ca2d0c6-a2bc-40ad-abc8-c5b9f7b3f9cb button.colab-df-convert');\n",
              "        buttonEl.style.display =\n",
              "          google.colab.kernel.accessAllowed ? 'block' : 'none';\n",
              "\n",
              "        async function convertToInteractive(key) {\n",
              "          const element = document.querySelector('#df-0ca2d0c6-a2bc-40ad-abc8-c5b9f7b3f9cb');\n",
              "          const dataTable =\n",
              "            await google.colab.kernel.invokeFunction('convertToInteractive',\n",
              "                                                     [key], {});\n",
              "          if (!dataTable) return;\n",
              "\n",
              "          const docLinkHtml = 'Like what you see? Visit the ' +\n",
              "            '<a target=\"_blank\" href=https://colab.research.google.com/notebooks/data_table.ipynb>data table notebook</a>'\n",
              "            + ' to learn more about interactive tables.';\n",
              "          element.innerHTML = '';\n",
              "          dataTable['output_type'] = 'display_data';\n",
              "          await google.colab.output.renderOutput(dataTable, element);\n",
              "          const docLink = document.createElement('div');\n",
              "          docLink.innerHTML = docLinkHtml;\n",
              "          element.appendChild(docLink);\n",
              "        }\n",
              "      </script>\n",
              "    </div>\n",
              "  </div>\n",
              "  "
            ]
          },
          "metadata": {},
          "execution_count": 14
        }
      ]
    },
    {
      "cell_type": "markdown",
      "source": [
        "### [Natural Earth Datasets](https://www.naturalearthdata.com/)\n",
        "### [US States Generalized](https://asl-prod.maps.arcgis.com/home/item.html?id=8c2d6d7df8fa4142b0a1211c8dd66903)\n"
      ],
      "metadata": {
        "id": "Ssxhkb3OKNTc"
      }
    },
    {
      "cell_type": "code",
      "source": [
        "gdf.crs\n",
        "gdf = gdf.to_crs(epsg=4326)\n",
        "gdf.crs"
      ],
      "metadata": {
        "colab": {
          "base_uri": "https://localhost:8080/"
        },
        "id": "Kbzbe1LLVCy1",
        "outputId": "4450cf09-3a79-420d-c2d5-149914e336fd"
      },
      "execution_count": 38,
      "outputs": [
        {
          "output_type": "execute_result",
          "data": {
            "text/plain": [
              "<Geographic 2D CRS: EPSG:4326>\n",
              "Name: WGS 84\n",
              "Axis Info [ellipsoidal]:\n",
              "- Lat[north]: Geodetic latitude (degree)\n",
              "- Lon[east]: Geodetic longitude (degree)\n",
              "Area of Use:\n",
              "- name: World.\n",
              "- bounds: (-180.0, -90.0, 180.0, 90.0)\n",
              "Datum: World Geodetic System 1984 ensemble\n",
              "- Ellipsoid: WGS 84\n",
              "- Prime Meridian: Greenwich"
            ]
          },
          "metadata": {},
          "execution_count": 38
        }
      ]
    },
    {
      "cell_type": "code",
      "source": [
        "cmap = ['seismic', 'magma', 'inferno', 'viridis']\n",
        "# gdf = gdf.to_crs(epsg=3857)\n",
        "fig, ax = plt.subplots(figsize=(12,10),facecolor='#0f0f0f')\n",
        "ax.set_aspect('equal')\n",
        "ax.set_xticklabels([])\n",
        "ax.set_yticklabels([])\n",
        "states.boundary.plot(ax=ax, edgecolor='white', linewidth=0.5, alpha=0.8) \n",
        "gdf.plot(ax=ax, column='unemployment_rate', scheme=\"Quantiles\", legend=True, cmap=cmap[3], \n",
        "         edgecolor='white', linewidth=0, markersize=100, \n",
        "         legend_kwds={\"loc\": \"center left\"})\n",
        "plt.title(f'Unemployment Rate By State - {cmap[3]}', fontsize=18, color='white')\n",
        "ax.set_axis_off()\n",
        "plt.show();"
      ],
      "metadata": {
        "colab": {
          "base_uri": "https://localhost:8080/",
          "height": 576
        },
        "id": "V0f6YrU2TJa8",
        "outputId": "a5db7628-7780-4308-e308-ce62f0cb28b8"
      },
      "execution_count": 42,
      "outputs": [
        {
          "output_type": "display_data",
          "data": {
            "text/plain": [
              "<Figure size 1200x1000 with 1 Axes>"
            ],
            "image/png": "[encoded data removed]"
          },
          "metadata": {}
        }
      ]
    },
    {
      "cell_type": "markdown",
      "source": [
        "## Can you make it Interactive?"
      ],
      "metadata": {
        "id": "EQwDRRN0YLmT"
      }
    },
    {
      "cell_type": "code",
      "source": [
        "gdf.explore()"
      ],
      "metadata": {
        "id": "zekGLKECXsgs"
      },
      "execution_count": null,
      "outputs": []
    },
    {
      "cell_type": "code",
      "source": [
        "gdf.explore('unemployment_rate', marker_kwds={\"radius\":10}, scheme='Quantiles')"
      ],
      "metadata": {
        "id": "FpMl5BF-WjrQ"
      },
      "execution_count": null,
      "outputs": []
    },
    {
      "cell_type": "markdown",
      "source": [
        "## Let's Join These Datasets"
      ],
      "metadata": {
        "id": "nJ6NwiGOYYHG"
      }
    },
    {
      "cell_type": "code",
      "source": [
        "gdfJoin = gpd.sjoin(states, gdf, how='left', predicate='intersects')\n",
        "gdfJoin.head()"
      ],
      "metadata": {
        "id": "qB9zoUzlZQad"
      },
      "execution_count": null,
      "outputs": []
    },
    {
      "cell_type": "code",
      "source": [
        "gdfJoin.explore('unemployment_rate', scheme='Quantiles', cmap=cmap[3])"
      ],
      "metadata": {
        "id": "wMrCVGtDZhi2"
      },
      "execution_count": null,
      "outputs": []
    },
    {
      "cell_type": "markdown",
      "source": [
        "## Export the New Data"
      ],
      "metadata": {
        "id": "25jwMQO4d_U2"
      }
    },
    {
      "cell_type": "code",
      "source": [
        "import fiona\n",
        "driversDict = fiona.supported_drivers\n",
        "drivers = []\n",
        "for i, driver in enumerate(driversDict.keys()):\n",
        "    print(f'{i} - {driver}')\n",
        "    drivers.append(driver)\n"
      ],
      "metadata": {
        "colab": {
          "base_uri": "https://localhost:8080/"
        },
        "id": "sno8RNGReQdn",
        "outputId": "ef40635a-0183-4556-ee99-2cab7c8e63b8"
      },
      "execution_count": 90,
      "outputs": [
        {
          "output_type": "stream",
          "name": "stdout",
          "text": [
            "0 - DXF\n",
            "1 - CSV\n",
            "2 - OpenFileGDB\n",
            "3 - ESRIJSON\n",
            "4 - ESRI Shapefile\n",
            "5 - FlatGeobuf\n",
            "6 - GeoJSON\n",
            "7 - GeoJSONSeq\n",
            "8 - GPKG\n",
            "9 - GML\n",
            "10 - OGR_GMT\n",
            "11 - GPX\n",
            "12 - MapInfo File\n",
            "13 - DGN\n",
            "14 - S57\n",
            "15 - SQLite\n",
            "16 - TopoJSON\n"
          ]
        }
      ]
    },
    {
      "cell_type": "code",
      "source": [
        "fileName = 'StatesUnemploy.geojson'\n",
        "gdfJoin.to_file(filename=fileName, driver=drivers[6])#, layer='main')"
      ],
      "metadata": {
        "id": "9EPza9khd-E_"
      },
      "execution_count": 104,
      "outputs": []
    },
    {
      "cell_type": "markdown",
      "source": [
        "sample notebook on github\n",
        "\n",
        "very basic python ex\n",
        "\n",
        "Very basic Colab notebooks\n",
        "\n",
        "Install and import gpd\n",
        "\n",
        "What is gpd?\n",
        "\n",
        "Load CSV with gpd of points, espg?\n",
        "\n",
        "Gdf info, summary, null, head etc...\n",
        "\n",
        "Gdf plot, nicer plot 😎\n",
        "\n",
        "Gdf explore\n",
        "\n",
        "Export to html?\n",
        "\n",
        "Export gdf as shapefile etc...\n",
        "\n",
        "Open in arc/QGIS\n",
        "2\n",
        "\n",
        "load shapefile polygon\n",
        "\n",
        "Do some data work, join points and poly\n",
        "\n",
        "Display map with 2 layers\n",
        "3\n",
        "\n",
        "access AGOL data\n",
        "\n",
        "Export to portal\n",
        "\n",
        "Search AGOL layers\n",
        "\n",
        "geocode\n",
        "\n",
        "Static map\n",
        "\n",
        "Interactive map\n",
        "\n",
        "Leafmap/ DeckGL map\n",
        "\n",
        "H3 data\n",
        "\n",
        "Data viz"
      ],
      "metadata": {
        "id": "ob5WPfDw7qfx"
      }
    },
    {
      "cell_type": "markdown",
      "source": [
        "## Explore some Keyboard shortcuts\n",
        "```python\n",
        "<CTRL>-M-\n",
        "\n",
        "```"
      ],
      "metadata": {
        "id": "zvZjJCfADUP0"
      }
    },
    {
      "cell_type": "code",
      "execution_count": null,
      "metadata": {
        "id": "i4gdEXVZUleF"
      },
      "outputs": [],
      "source": [
        "!pip install geopandas\n",
        "import geopandas as gpd"
      ]
    },
    {
      "cell_type": "code",
      "source": [
        "print(\"Well then\")\n",
        "aList = [1,2,3,420]\n",
        "\n",
        "def newFunction(someVar: list):\n",
        "    for i in someVar:\n",
        "        print(i) \n",
        "\n",
        "newFunction(aList)"
      ],
      "metadata": {
        "colab": {
          "base_uri": "https://localhost:8080/"
        },
        "id": "HefH72MXU6ys",
        "outputId": "39c35c54-5d28-4e0b-a048-79894371b403"
      },
      "execution_count": null,
      "outputs": [
        {
          "output_type": "stream",
          "name": "stdout",
          "text": [
            "Well then\n",
            "1\n",
            "2\n",
            "3\n",
            "420\n"
          ]
        }
      ]
    },
    {
      "cell_type": "code",
      "source": [
        "This is wagt happens in many power moooooooooooooooooooooodooedelkslkvdsdnlkdkfsdnkfshdlkf\n",
        "YOU SHOULD NOT DO THIS!!!!!"
      ],
      "metadata": {
        "id": "P-Zy7etagFuo"
      },
      "execution_count": null,
      "outputs": []
    },
    {
      "cell_type": "markdown",
      "source": [
        "## THIS IS HEADER"
      ],
      "metadata": {
        "id": "wdsZGUD5itj5"
      }
    },
    {
      "cell_type": "code",
      "source": [],
      "metadata": {
        "id": "FkHpxrGqivuc"
      },
      "execution_count": null,
      "outputs": []
    },
    {
      "cell_type": "markdown",
      "source": [
        "### Python Bitwise Operators\n",
        "| Operator    |\tDescription\t| Syntax |\n",
        "|------------ | ----------- | ------ |   \n",
        "| &\t          | Bitwise AND\t|  x & y |  \n",
        "| \\|\t      | Bitwise OR\t|  x | y |  \n",
        "| ~           | Bitwise NOT\t|  ~x    |  \n",
        "| ^\t          | Bitwise XOR\t|  x ^ y |  \n",
        "| >>\t      | Bitwise right shift\t|  x & y |  \n",
        "| <<          | Bitwise left shift\t|  x & y |  \n"
      ],
      "metadata": {
        "id": "AfbdCt6zcvPj"
      }
    }
  ]
}