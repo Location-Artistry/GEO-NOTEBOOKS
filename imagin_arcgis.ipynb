{
  "cells": [
    {
      "cell_type": "markdown",
      "metadata": {
        "id": "view-in-github",
        "colab_type": "text"
      },
      "source": [
        "<a href=\"https://colab.research.google.com/github/Location-Artistry/GEO-NOTEBOOKS/blob/main/imagin_arcgis.ipynb\" target=\"_parent\"><img src=\"https://colab.research.google.com/assets/colab-badge.svg\" alt=\"Open In Colab\"/></a>"
      ]
    },
    {
      "cell_type": "markdown",
      "metadata": {
        "id": "i7IWWX4mjOmQ"
      },
      "source": [
        "<h1  STYLE=\"font-size:60px\">Managing ArcGIS Online with the Python API </h1>\n",
        "<h2  STYLE=\"font-size:50px\">IMAGIN Conference 2024 </h1>\n",
        "<h3  STYLE=\"font-size:30px\">Eric Kerney - Geospatial Developer @ Airspace Link Inc. - IMAGIN Board</h3>\n",
        "    \n",
        "<br />"
      ]
    },
    {
      "cell_type": "markdown",
      "metadata": {
        "id": "cLSo7H4WjOmR"
      },
      "source": [
        "<br />\n",
        "<br />\n",
        "\n",
        "---\n",
        "<br />\n",
        "<br />"
      ]
    },
    {
      "cell_type": "code",
      "execution_count": null,
      "metadata": {
        "id": "h_fBVqpPjOmS",
        "outputId": "f89f0092-d44b-4a9f-a06d-9ba7f9a390e3"
      },
      "outputs": [
        {
          "data": {
            "text/html": [
              "<a href='https://airspacelink.com/'>https://airspacelink.com/</a>\n",
              "<iframe src=\"https://airspacelink.com/\" width=\"1200\" height=\"600\"></iframe>\n"
            ],
            "text/plain": [
              "<IPython.core.display.HTML object>"
            ]
          },
          "metadata": {},
          "output_type": "display_data"
        }
      ],
      "source": [
        "%%html\n",
        "<a href='https://airspacelink.com/'>https://airspacelink.com/</a>\n",
        "<iframe src=\"https://airspacelink.com/\" width=\"1200\" height=\"600\"></iframe>"
      ]
    },
    {
      "cell_type": "markdown",
      "metadata": {
        "id": "7_G-nOr2jOmT"
      },
      "source": [
        "<br />\n",
        "\n",
        "---\n",
        "<br />"
      ]
    },
    {
      "cell_type": "code",
      "execution_count": null,
      "metadata": {
        "id": "0z3GtS22jOmT",
        "outputId": "edd7aa4a-cecc-462c-9739-7aa845386ce5"
      },
      "outputs": [
        {
          "data": {
            "text/html": [
              "<a href='https://developers.arcgis.com/python/guide/overview-of-the-arcgis-api-for-python/'>https://developers.arcgis.com/python/guide/overview-of-the-arcgis-api-for-python/</a>\n",
              "<iframe src=\"https://developers.arcgis.com/python/guide/overview-of-the-arcgis-api-for-python/\" width=\"1200\" height=\"720\"></iframe>\n"
            ],
            "text/plain": [
              "<IPython.core.display.HTML object>"
            ]
          },
          "metadata": {},
          "output_type": "display_data"
        }
      ],
      "source": [
        "%%html\n",
        "<a href='https://developers.arcgis.com/python/guide/overview-of-the-arcgis-api-for-python/'>https://developers.arcgis.com/python/guide/overview-of-the-arcgis-api-for-python/</a>\n",
        "<iframe src=\"https://developers.arcgis.com/python/guide/overview-of-the-arcgis-api-for-python/\" width=\"1200\" height=\"720\"></iframe>"
      ]
    },
    {
      "cell_type": "markdown",
      "metadata": {
        "id": "3Zkh0xOtjOmT"
      },
      "source": [
        "<br />\n",
        "<br />\n",
        "<h2  STYLE=\"font-size:50px\">Best of All... No License Required!</h1>\n",
        "<br />\n",
        "<br />"
      ]
    },
    {
      "cell_type": "markdown",
      "metadata": {
        "id": "tq3O2IM1jOmU"
      },
      "source": [
        "<h2  STYLE=\"font-size:50px\">But... how can it help me?</h2>\n",
        "\n",
        "- Faster searching of AGOL/Portal Resources\n",
        "- Avoids hassles waiting for UI to load in AGOL Web UI\n",
        "- Ability to quickly manage and view Users, Content, & Apps\n",
        "- Quickly view WebMap and App dependencies\n",
        "- View all of the content owned by a specific user\n",
        "- Create and publish new items\n",
        "- CLone items from DEV to PROD, or from Portal to Portal\n",
        "- Allows for programmatic and automated workflows\n",
        "- Potentially Save many hours of manual staff time\n",
        "<br />\n",
        "<br />\n",
        "<br />\n",
        "<br />\n",
        "<br />"
      ]
    },
    {
      "cell_type": "markdown",
      "metadata": {
        "id": "2RUK739djOmU"
      },
      "source": [
        "<h2  STYLE=\"font-size:50px\">What are the Pitfalls?</h2>\n",
        "\n",
        "- Setting up Python & Development Environment\n",
        "- Python learning curve for non-coders\n",
        "- Python dependencies can be inconsistent with version upgrades\n",
        "- arcgis libraries don't always play nice with others &#x1F636;\n",
        "- Takes time/resources investment to payoff\n",
        "<br />\n",
        "<br />\n",
        "<br />\n",
        "<br />"
      ]
    },
    {
      "cell_type": "markdown",
      "metadata": {
        "id": "0weRCT9ajOmU"
      },
      "source": [
        "<h2  STYLE=\"font-size:50px\">What we will do today</h2>\n",
        "\n",
        "## Section 1\n",
        "1. Python & Notebook Setup\n",
        "2. Python basics - [IMAGIN 2023 Python Basics & GeoPandas Notebook](https://github.com/Location-Artistry/GEO-NOTEBOOKS/blob/main/GeoPandas4GeoSpatial.ipynb)\n",
        "3. Connect to AGOL via python api\n",
        "4. View organization info: Users & Groups\n",
        "5. Search and View Content\n",
        "6. Create interactive maps! (*impress your boss*)\n",
        "7. Clone content between Portals\n",
        "8. Make a reuseable function\n",
        "## Section 2 ???\n",
        "1. Creating a simple Online GIS framework\n",
        "2. Load Open GIS Data from the State of Michigan\n",
        "3. View information and maps of loaded data\n",
        "4. Create & Publish new AGOL Items from Data!\n",
        "5. Confirm new Services in AGOL\n",
        "6. Refactor this code into additional functions\n",
        "7. Edit Feature Properties!!\n",
        "8. Update our Services with other data sources\n",
        "<br />\n",
        "<br />\n",
        "<br />\n",
        "<br />"
      ]
    },
    {
      "cell_type": "markdown",
      "metadata": {
        "id": "RzwGeCeqjOmU"
      },
      "source": [
        "<h3  STYLE=\"font-size:40px\">Getting Setup</h3>\n",
        "\n",
        "### Choose A Jupyter Notebook Environment\n",
        "- ArcGIS Pro Jupyter Notebook - [ArcGIS Pro ^2.5](https://www.esri.com/arcgis-blog/products/arcgis-pro/analytics/introducing-arcgis-notebooks-in-arcgis-pro/)\n",
        "- Standalone Jupyter Notebook - Installed with ArcGIS Pro\n",
        "- Google Colab - Free web based\n",
        "- VSCode Jupyter Extension - Free best dev setup\n"
      ]
    },
    {
      "cell_type": "markdown",
      "metadata": {
        "id": "0Uv2chjfjOmU"
      },
      "source": [
        "## What I Learned\n",
        "**Google Colab**    \n",
        "Difficulties getting all of the arcgis python functionality to work outside of esri.   \n",
        "Previous python demo used Colab, easy to follow along on web from any computer.     \n",
        "Colab was taking a very long time to install and import arcgis python upon each opening.    \n",
        "Map widget also would not show in Colab &#x1F641;\t   \n",
        "<br />   \n",
        "\n",
        "**VSCode Extension**     \n",
        "Best environment for working with code, Intellisense and code completion.   \n",
        "Many other extensions and tools for working with Jupyter Notebooks and data visualizations.   \n",
        "Trying to setup a fresh python environment on Windows Subsystem for Linux was difficult.   \n",
        "Issues with most recent version of arcgis, had to downgrade to v1.9.1.   \n",
        "Map widget would also not show with the versions of ipywidgets &#x1F641;\n",
        "<br />   \n",
        "\n",
        "**ArcGIS Pro Notebooks**     \n",
        "Works out of the box, packages pre-installed with Pro.   \n",
        "Map widget finally works &#x1F642;\t   \n",
        "Limited code completions & extensions capabilities.    \n",
        "Outputs not nearly as nice as VSCode renderer.   \n"
      ]
    },
    {
      "cell_type": "markdown",
      "metadata": {
        "id": "1xVqRSbdjOmV"
      },
      "source": [
        "# Help with Python & Notebooks\n",
        "### IMAGIN 2023 Presentation\n",
        "[GeoPandas4GeoSpatial Notebook github](https://github.com/Location-Artistry/GEO-NOTEBOOKS/blob/main/GeoPandas4GeoSpatial.ipynb)\n",
        "Nice primer on basics of the python language, usage of Jupyter Notebooks   \n",
        "Pandas and GeoPandas examples for working with dataframes and Geo Data\n",
        "<br />\n",
        "<br />\n",
        "\n",
        "# Can we please see some code!"
      ]
    },
    {
      "cell_type": "markdown",
      "metadata": {
        "id": "VzpUt8FIjOmV"
      },
      "source": [
        "### Install python api if not in ArcGIS Python Env\n",
        "\n",
        "```bash\n",
        "pip install arcgis\n",
        "pip install geopandas\n",
        "```\n",
        "Then import arcgis, geopandas, and pandas"
      ]
    },
    {
      "cell_type": "code",
      "execution_count": null,
      "metadata": {
        "id": "boGRPrOBjOmV"
      },
      "outputs": [],
      "source": [
        "from arcgis import GIS\n",
        "# import geopandas as gpd\n",
        "import pandas as pd"
      ]
    },
    {
      "cell_type": "markdown",
      "metadata": {
        "id": "LQnslPkPjOmV"
      },
      "source": [
        "### Create a generic GIS instance"
      ]
    },
    {
      "cell_type": "code",
      "execution_count": null,
      "metadata": {
        "id": "z9BZPU_1jOmV",
        "outputId": "0c63a5bb-c621-4af7-9063-765773a358d4"
      },
      "outputs": [
        {
          "data": {
            "text/html": [
              "GIS @ <a href=\"https://www.arcgis.com\">https://www.arcgis.com</a>"
            ],
            "text/plain": [
              "GIS @ https://www.arcgis.com version:2024.1"
            ]
          },
          "execution_count": 37,
          "metadata": {},
          "output_type": "execute_result"
        }
      ],
      "source": [
        "gis2 = GIS()\n",
        "gis"
      ]
    },
    {
      "cell_type": "markdown",
      "metadata": {
        "id": "tbImpoZkjOmV"
      },
      "source": [
        "### Browse some of the methods()"
      ]
    },
    {
      "cell_type": "code",
      "execution_count": null,
      "metadata": {
        "id": "xu38HeEVjOmW",
        "outputId": "da2cc25c-5ff5-496d-a7b3-a7f44f633d3b"
      },
      "outputs": [
        {
          "name": "stdout",
          "output_type": "stream",
          "text": [
            "__class__\n",
            "__delattr__\n",
            "__dict__\n",
            "__dir__\n",
            "__doc__\n",
            "__eq__\n",
            "__format__\n",
            "__ge__\n",
            "__getattribute__\n",
            "__gt__\n",
            "__hash__\n",
            "__init__\n",
            "__init_subclass__\n",
            "__le__\n",
            "__lt__\n",
            "__module__\n",
            "__ne__\n",
            "__new__\n",
            "__reduce__\n",
            "__reduce_ex__\n",
            "__repr__\n",
            "__setattr__\n",
            "__sizeof__\n",
            "__str__\n",
            "__subclasshook__\n",
            "__weakref__\n",
            "_cert_file\n",
            "_client_id\n",
            "_con\n",
            "_config_is_in_new_format\n",
            "_datastores\n",
            "_datastores_list\n",
            "_expiration\n",
            "_get_properties\n",
            "_is_agol\n",
            "_is_hosted_nb_home\n",
            "_key_file\n",
            "_lazy_properties\n",
            "_lazy_users\n",
            "_password\n",
            "_pds\n",
            "_pfx_to_pem\n",
            "_portal\n",
            "_private_service_url\n",
            "_product_version\n",
            "_proxy_host\n",
            "_proxy_port\n",
            "_public_rest_url\n",
            "_raise_hosted_nb_error\n",
            "_referer\n",
            "_registered_servers\n",
            "_repr_html_\n",
            "_server_list\n",
            "_subscription_information\n",
            "_timeout\n",
            "_tools\n",
            "_try_configure_for_hosted_nb\n",
            "_uri_validator\n",
            "_url\n",
            "_username\n",
            "_utoken\n",
            "_verify_cert\n",
            "api_keys\n",
            "content\n",
            "datastore\n",
            "groups\n",
            "hub\n",
            "languages\n",
            "map\n",
            "notebook_server\n",
            "org_settings\n",
            "properties\n",
            "regions\n",
            "servers\n",
            "update_properties\n",
            "url\n",
            "users\n",
            "velocity\n",
            "version\n"
          ]
        }
      ],
      "source": [
        "for method in dir(gis):\n",
        "    print(method)"
      ]
    },
    {
      "cell_type": "markdown",
      "metadata": {
        "id": "mgObXG6EjOmW"
      },
      "source": [
        "### Some of these seem interesting..."
      ]
    },
    {
      "cell_type": "code",
      "execution_count": null,
      "metadata": {
        "id": "VtHzkrchjOmW"
      },
      "outputs": [],
      "source": [
        "gis.org_settings"
      ]
    },
    {
      "cell_type": "markdown",
      "metadata": {
        "id": "xketMUuYjOmW"
      },
      "source": [
        "### Search for some Content"
      ]
    },
    {
      "cell_type": "code",
      "execution_count": null,
      "metadata": {
        "id": "muZTeRbAjOmW",
        "outputId": "d4a2b827-ef9b-45a8-daca-c1c9333a347c"
      },
      "outputs": [
        {
          "data": {
            "text/plain": [
              "[<Item title:\"Coronavirus COVID-19 (2019-nCoV)\" type:Dashboard owner:CSSE_covid19>,\n",
              " <Item title:\"Building Footprint Extraction - USA\" type:Deep Learning Package owner:esri_analytics>,\n",
              " <Item title:\"USA Soils Map Units\" type:Feature Layer Collection owner:esri>,\n",
              " <Item title:\"We are Living inThe Age of Humans\" type:Web Mapping Application owner:StoryMaps>,\n",
              " <Item title:\"Wildfire Aware\" type:Web Mapping Application owner:esri_observations>,\n",
              " <Item title:\"Community Maps Tour\" type:Web Map owner:esri>,\n",
              " <Item title:\"COVID-19 Cases US\" type:Feature Layer Collection owner:CSSE_covid19>,\n",
              " <Item title:\"Tree Point Classification\" type:Deep Learning Package owner:esri_analytics>,\n",
              " <Item title:\"Living Atlas Contributor App\" type:Web Mapping Application owner:esri>,\n",
              " <Item title:\"Rondonia Land Cover Change from 1992 to 2020\" type:Web Map owner:EsriTrainingSvc>]"
            ]
          },
          "execution_count": 5,
          "metadata": {},
          "output_type": "execute_result"
        }
      ],
      "source": [
        "gis.content.search(query='Living Atlas', max_items=10)"
      ]
    },
    {
      "cell_type": "code",
      "execution_count": null,
      "metadata": {
        "id": "g1pH0FBFjOmX",
        "outputId": "38f52470-13ca-4092-c83b-e8a1a2c84984"
      },
      "outputs": [
        {
          "name": "stdout",
          "output_type": "stream",
          "text": [
            "title: Coronavirus COVID-19 (2019-nCoV) - type: Dashboard\n",
            "title: Building Footprint Extraction - USA - type: Deep Learning Package\n",
            "title: USA Soils Map Units - type: Feature Service\n",
            "title: We are Living inThe Age of Humans - type: Web Mapping Application\n",
            "title: Wildfire Aware - type: Web Mapping Application\n",
            "title: Community Maps Tour - type: Web Map\n",
            "title: COVID-19 Cases US - type: Feature Service\n",
            "title: Tree Point Classification - type: Deep Learning Package\n",
            "title: Living Atlas Contributor App - type: Web Mapping Application\n",
            "title: Rondonia Land Cover Change from 1992 to 2020 - type: Web Map\n"
          ]
        }
      ],
      "source": [
        "results = gis.content.search(query='Living Atlas', max_items=10)\n",
        "for item in results:\n",
        "    print(f'title: {item.title} - type: {item.type}')\n",
        "    # display(item)"
      ]
    },
    {
      "cell_type": "markdown",
      "metadata": {
        "id": "F4I8MagNjOmX"
      },
      "source": [
        "### Get a Specific Item"
      ]
    },
    {
      "cell_type": "code",
      "execution_count": null,
      "metadata": {
        "id": "YWuCBtHsjOmX",
        "outputId": "ad5dec38-51ad-4ff5-f6d8-d719e4d3a65b"
      },
      "outputs": [
        {
          "name": "stdout",
          "output_type": "stream",
          "text": [
            "0 - title: Coronavirus COVID-19 (2019-nCoV) - type: Dashboard\n",
            "1 - title: Building Footprint Extraction - USA - type: Deep Learning Package\n",
            "2 - title: USA Soils Map Units - type: Feature Service\n",
            "3 - title: We are Living inThe Age of Humans - type: Web Mapping Application\n",
            "4 - title: Wildfire Aware - type: Web Mapping Application\n",
            "5 - title: Community Maps Tour - type: Web Map\n",
            "6 - title: COVID-19 Cases US - type: Feature Service\n",
            "7 - title: Tree Point Classification - type: Deep Learning Package\n",
            "8 - title: Living Atlas Contributor App - type: Web Mapping Application\n",
            "9 - title: Rondonia Land Cover Change from 1992 to 2020 - type: Web Map\n"
          ]
        },
        {
          "data": {
            "text/html": [
              "<div class=\"item_container\" style=\"height: auto; overflow: hidden; border: 1px solid #cfcfcf; border-radius: 2px; background: #f6fafa; line-height: 1.21429em; padding: 10px;\">\n",
              "                    <div class=\"item_left\" style=\"width: 210px; float: left;\">\n",
              "                       <a href='https://www.arcgis.com/home/item.html?id=628578697fb24d8ea4c32fa0c5ae1843' target='_blank'>\n",
              "                        <img src='https://www.arcgis.com/sharing/rest//content/items/628578697fb24d8ea4c32fa0c5ae1843/info/thumbnail/thumbnail1584926359474.png' class=\"itemThumbnail\">\n",
              "                       </a>\n",
              "                    </div>\n",
              "\n",
              "                    <div class=\"item_right\"     style=\"float: none; width: auto; overflow: hidden;\">\n",
              "                        <a href='https://www.arcgis.com/home/item.html?id=628578697fb24d8ea4c32fa0c5ae1843' target='_blank'><b>COVID-19 Cases US</b>\n",
              "                        </a>\n",
              "                        <br/>The current situation for the COVID-19 virus in the US updated hourly. On March 10, 2023, the Johns Hopkins Coronavirus Resource Center ceased collecting and reporting global COVID-19 data. For more information, visit the Johns Hopkins Coronavirus Resource Center. https://coronavirus.jhu.edu/ <img src='https://www.arcgis.com/home/js/jsapi/esri/css/images/item_type_icons/featureshosted16.png' style=\"vertical-align:middle;\">Feature Layer Collection by CSSE_covid19\n",
              "                        <br/>Last Modified: March 10, 2023\n",
              "                        <br/>0 comments, 211,835,373 views\n",
              "                    </div>\n",
              "                </div>\n",
              "                "
            ],
            "text/plain": [
              "<Item title:\"COVID-19 Cases US\" type:Feature Layer Collection owner:CSSE_covid19>"
            ]
          },
          "execution_count": 42,
          "metadata": {},
          "output_type": "execute_result"
        }
      ],
      "source": [
        "results = gis.content.search(query='Living Atlas', max_items=10)\n",
        "for i, item in enumerate(results):\n",
        "    print(f'{i} - title: {item.title} - type: {item.type}')\n",
        "item = results[6]\n",
        "itemInfo = gis.content.get(item.id)\n",
        "itemInfo"
      ]
    },
    {
      "cell_type": "code",
      "execution_count": null,
      "metadata": {
        "id": "nAsFmAhBjOmX"
      },
      "outputs": [],
      "source": [
        "# Print all of the information/methods available for that method\n",
        "for key, value in itemInfo.items():\n",
        "    print(f'{key}: {value}')"
      ]
    },
    {
      "cell_type": "markdown",
      "metadata": {
        "id": "_nxCLz63jOmX"
      },
      "source": [
        "### Connect to Your AGOL/Portal\n",
        "Create a login function that prompts for userID & password"
      ]
    },
    {
      "cell_type": "code",
      "execution_count": null,
      "metadata": {
        "id": "L3a-SgKQjOmX"
      },
      "outputs": [],
      "source": [
        "import getpass\n",
        "def loginAGOL(portal: str='https://www.arcgis.com'):\n",
        "    userID = input(f'ArcGIS Online USER ID: ')\n",
        "    pwd = getpass.getpass('PASSWORD: ')\n",
        "    try:\n",
        "        gis = GIS(portal, userID, pwd)\n",
        "        print(f'SUCCESS - CONNECTED TO: {gis.users.me.username} ACCOUNT as <gis>')\n",
        "        print(gis)\n",
        "    except:\n",
        "            print(f'ERROR DID NOT CONNECT TO: {userID}')\n",
        "    return gis"
      ]
    },
    {
      "cell_type": "code",
      "execution_count": null,
      "metadata": {
        "id": "-MzQOAgWjOmX",
        "outputId": "6009193e-946e-45c1-ccbd-8333b5aa5383"
      },
      "outputs": [
        {
          "name": "stdout",
          "output_type": "stream",
          "text": [
            "SUCCESS - CONNECTED TO: migeodev ACCOUNT as <gis>\n",
            "GIS @ https://micFdsPnRKqSu66U.maps.arcgis.com version:2024.1\n"
          ]
        }
      ],
      "source": [
        "gis2 = loginAGOL()"
      ]
    },
    {
      "cell_type": "markdown",
      "metadata": {
        "id": "VNmvKCPHjOmY"
      },
      "source": [
        "### Search function to reduce repitition"
      ]
    },
    {
      "cell_type": "code",
      "execution_count": null,
      "metadata": {
        "id": "3m4KJgtxjOmY"
      },
      "outputs": [],
      "source": [
        "def searchContent(gis, query: str, item_type: str, max_items: int):\n",
        "    results = gis.content.search(query=(f'title: {query}'), max_items=max_items, item_type=item_type)\n",
        "    for i, item in enumerate(results):\n",
        "        print(f'{i} - title: {item.title} - type: {item.type}')\n",
        "    return results"
      ]
    },
    {
      "cell_type": "code",
      "execution_count": null,
      "metadata": {
        "id": "1sgawBuKjOmY"
      },
      "outputs": [],
      "source": [
        "query = 'water'\n",
        "item_type = ['Feature Service', 'Web Map', 'Dashboard', 'Web Mapping Application']\n",
        "max_items = 10\n",
        "results = searchContent(gis=gis2, query=query, item_type=item_type[1], max_items=max_items)"
      ]
    },
    {
      "cell_type": "markdown",
      "metadata": {
        "id": "RKV-MoAwjOmY"
      },
      "source": [
        "### View Users and Groups"
      ]
    },
    {
      "cell_type": "code",
      "execution_count": null,
      "metadata": {
        "id": "3VeSG_LQjOmY",
        "outputId": "98e2c2a2-3431-4efb-de69-23779ec8d64b"
      },
      "outputs": [
        {
          "data": {
            "text/plain": [
              "[<Item title:\"Default API Key\" type:API Key owner:migeodev>,\n",
              " <Item title:\"wayneGroundObs\" type:GeoJson owner:migeodev>,\n",
              " <Item title:\"wayneGroundObs\" type:Feature Layer Collection owner:migeodev>,\n",
              " <Item title:\"Layer_1\" type:Feature Layer Collection owner:migeodev>]"
            ]
          },
          "execution_count": 91,
          "metadata": {},
          "output_type": "execute_result"
        }
      ],
      "source": [
        "# groups = gis2.groups.search()\n",
        "user = gis2.users.search()[0]\n",
        "user.items(max_items=10)\n",
        "# user.folders"
      ]
    },
    {
      "cell_type": "code",
      "execution_count": null,
      "metadata": {
        "id": "kXv90LlbjOmY"
      },
      "outputs": [],
      "source": [
        "imagin_demo_user = gis2.users.create(\n",
        "    username = 'imagin_demo_user', password = 'imagin2024', firstname = 'imagin', lastname = '2024',\n",
        "    email = 'python@esri.com', description = 'Demonstrating how to create users using ArcGIS Python API')"
      ]
    },
    {
      "cell_type": "markdown",
      "metadata": {
        "id": "UWtTdT9EjOmZ"
      },
      "source": [
        "## Time for Maps!"
      ]
    },
    {
      "cell_type": "code",
      "execution_count": null,
      "metadata": {
        "id": "G2LwkwNajOmZ",
        "outputId": "d02418ec-aa15-433a-ffdb-badf83f87934",
        "colab": {
          "referenced_widgets": [
            "35ac51ae7ded4aa59623513d6fb08825"
          ]
        }
      },
      "outputs": [
        {
          "data": {
            "application/vnd.jupyter.widget-view+json": {
              "model_id": "35ac51ae7ded4aa59623513d6fb08825",
              "version_major": 2,
              "version_minor": 0
            },
            "text/plain": [
              "MapView(layout=Layout(height='400px', width='100%'))"
            ]
          },
          "metadata": {},
          "output_type": "display_data"
        },
        {
          "data": {
            "text/html": [
              "<div class=\"map-static-img-preview-9c1201f7-f27d-4175-a64a-406b54a11de4\"><img src=\"\"></img></div>"
            ],
            "text/plain": [
              "<display.HTML object>"
            ]
          },
          "metadata": {},
          "output_type": "display_data"
        },
        {
          "data": {
            "text/html": [
              "<div class=\"map-html-embed-preview-9c1201f7-f27d-4175-a64a-406b54a11de4\"></div>"
            ],
            "text/plain": [
              "<display.HTML object>"
            ]
          },
          "metadata": {},
          "output_type": "display_data"
        }
      ],
      "source": [
        "map = gis2.map()\n",
        "map"
      ]
    },
    {
      "cell_type": "code",
      "execution_count": null,
      "metadata": {
        "id": "2jsorwqwjOmZ"
      },
      "outputs": [],
      "source": [
        "map = gis2.map('Detroit')\n",
        "map.basemap = \"topo-vector\"\n",
        "map.zoom = 10"
      ]
    },
    {
      "cell_type": "code",
      "execution_count": null,
      "metadata": {
        "id": "3zJzH0fjjOmZ"
      },
      "outputs": [],
      "source": [
        "basemaps = map.basemaps"
      ]
    },
    {
      "cell_type": "code",
      "execution_count": null,
      "metadata": {
        "id": "fazjzRYwjOma"
      },
      "outputs": [],
      "source": [
        "map.basemap = basemaps[5]\n",
        "map"
      ]
    }
  ],
  "metadata": {
    "kernelspec": {
      "display_name": "ArcGISPro",
      "language": "Python",
      "name": "python3"
    },
    "language_info": {
      "file_extension": ".py",
      "name": "python",
      "version": "3"
    },
    "colab": {
      "provenance": [],
      "include_colab_link": true
    }
  },
  "nbformat": 4,
  "nbformat_minor": 0
}